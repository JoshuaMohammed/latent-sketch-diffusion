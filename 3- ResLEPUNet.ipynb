{
  "cells": [
    {
      "cell_type": "markdown",
      "metadata": {
        "id": "4YvNEwjLZ4qt"
      },
      "source": [
        "COCO_50.zip (50 sample for each one of the two classes I used in the research \"Zebra & Giraffe\"):\n",
        "\n",
        "\n",
        "https://drive.google.com/file/d/1_g1yMXFhHRK9EGr17tFs8a3XSMON34oZ/view"
      ]
    },
    {
      "cell_type": "markdown",
      "metadata": {
        "id": "icV-VKA2Z4qv"
      },
      "source": [
        "ResNet18_SketchClassifier.pth:\n",
        "\n",
        "\n",
        "https://drive.google.com/file/d/1VEatovqShP_QbniU1_4sM0R39StUdbWZ/view"
      ]
    },
    {
      "cell_type": "markdown",
      "metadata": {
        "id": "Jr5_jb_5Z4qw"
      },
      "source": [
        "SketchClassifier.pth:\n",
        "\n",
        "\n",
        "https://drive.google.com/file/d/14mgO-xok8IdBoEn_j4_cljKtiDPw9-cH/view"
      ]
    },
    {
      "cell_type": "markdown",
      "metadata": {
        "id": "7yTTL-GKZ4qx"
      },
      "source": [
        "pretrained.zip (PhotoSketch model):\n",
        "\n",
        "https://drive.google.com/file/d/1TQf-LyS8rRDDapdcTnEgWzYJllPgiXdj/view"
      ]
    },
    {
      "cell_type": "markdown",
      "metadata": {
        "id": "Vowhh0yvBCQa"
      },
      "source": [
        "In case \"cuda out of memory\", you can run this cell so restart the session while keeping the files and installed libraries:"
      ]
    },
    {
      "cell_type": "code",
      "execution_count": null,
      "metadata": {
        "colab": {
          "base_uri": "https://localhost:8080/"
        },
        "id": "LI-3MbBn5JHz",
        "outputId": "1ae7d3da-6ef1-49ef-a48c-f719df803678"
      },
      "outputs": [
        {
          "data": {
            "text/plain": [
              "{'status': 'ok', 'restart': True}"
            ]
          },
          "execution_count": 1,
          "metadata": {},
          "output_type": "execute_result"
        }
      ],
      "source": [
        "import IPython\n",
        "IPython.Application.instance().kernel.do_shutdown(True)"
      ]
    },
    {
      "cell_type": "markdown",
      "metadata": {
        "id": "kioVkscDBy3S"
      },
      "source": [
        "Just to avoid annoying warnings to focus on the output"
      ]
    },
    {
      "cell_type": "code",
      "execution_count": 1,
      "metadata": {
        "id": "EjOkX7ZOxUb4"
      },
      "outputs": [],
      "source": [
        "import warnings\n",
        "warnings.simplefilter(action=\"ignore\", category=FutureWarning)"
      ]
    },
    {
      "cell_type": "markdown",
      "metadata": {
        "id": "uavDGtF9yGtf"
      },
      "source": [
        "# Get Dataset"
      ]
    },
    {
      "cell_type": "code",
      "execution_count": 2,
      "metadata": {
        "colab": {
          "base_uri": "https://localhost:8080/"
        },
        "id": "Sqdd1zYmxn6e",
        "outputId": "6586699d-19cc-40dc-dad8-99b2746cb95f"
      },
      "outputs": [
        {
          "name": "stdout",
          "output_type": "stream",
          "text": [
            "Mounted at /content/drive\n"
          ]
        }
      ],
      "source": [
        "import os\n",
        "from google.colab import drive\n",
        "\n",
        "drive.mount('/content/drive')"
      ]
    },
    {
      "cell_type": "code",
      "execution_count": 3,
      "metadata": {
        "colab": {
          "base_uri": "https://localhost:8080/"
        },
        "id": "W4shRQG2x1T2",
        "outputId": "30b87399-2937-4434-bc6b-a599f0077225"
      },
      "outputs": [
        {
          "name": "stdout",
          "output_type": "stream",
          "text": [
            "/content\n",
            "/content/zip\n",
            "--2025-09-14 12:12:59--  https://www.7-zip.org/a/7z2301-linux-x64.tar.xz\n",
            "Resolving www.7-zip.org (www.7-zip.org)... 49.12.202.237\n",
            "Connecting to www.7-zip.org (www.7-zip.org)|49.12.202.237|:443... connected.\n",
            "HTTP request sent, awaiting response... 200 OK\n",
            "Length: 1527700 (1.5M) [application/octet-stream]\n",
            "Saving to: ‘7z2301-linux-x64.tar.xz’\n",
            "\n",
            "7z2301-linux-x64.ta 100%[===================>]   1.46M  2.00MB/s    in 0.7s    \n",
            "\n",
            "2025-09-14 12:13:01 (2.00 MB/s) - ‘7z2301-linux-x64.tar.xz’ saved [1527700/1527700]\n",
            "\n",
            "/content\n"
          ]
        }
      ],
      "source": [
        "%cd /content\n",
        "!mkdir zip\n",
        "%cd zip\n",
        "!wget https://www.7-zip.org/a/7z2301-linux-x64.tar.xz\n",
        "!tar -xf 7z2301-linux-x64.tar.xz\n",
        "%cd .."
      ]
    },
    {
      "cell_type": "code",
      "execution_count": 4,
      "metadata": {
        "colab": {
          "base_uri": "https://localhost:8080/"
        },
        "id": "zh4YJn2K0ua7",
        "outputId": "21a38c5f-2c92-4c79-f44c-c6af36f8a7ed"
      },
      "outputs": [
        {
          "name": "stdout",
          "output_type": "stream",
          "text": [
            "\n",
            "7-Zip (z) 23.01 (x64) : Copyright (c) 1999-2023 Igor Pavlov : 2023-06-20\n",
            " 64-bit locale=en_US.UTF-8 Threads:2 OPEN_MAX:1048576, ASM\n",
            "\n",
            "Scanning the drive for archives:\n",
            "  0M Scan /content/drive/MyDrive/\b\b\b\b\b\b\b\b\b\b\b\b\b\b\b\b\b\b\b\b\b\b\b\b\b\b\b\b\b\b\b\b\b                                 \b\b\b\b\b\b\b\b\b\b\b\b\b\b\b\b\b\b\b\b\b\b\b\b\b\b\b\b\b\b\b\b\b1 file, 10424099 bytes (10180 KiB)\n",
            "\n",
            "Extracting archive: /content/drive/MyDrive/COCO_50.zip\n",
            "--\n",
            "Path = /content/drive/MyDrive/COCO_50.zip\n",
            "Type = zip\n",
            "Physical Size = 10424099\n",
            "\n",
            "  0%\b\b\b\b    \b\b\b\bEverything is Ok\n",
            "\n",
            "Folders: 13\n",
            "Files: 400\n",
            "Size:       11652329\n",
            "Compressed: 10424099\n"
          ]
        }
      ],
      "source": [
        "!/content/zip/7zz x \"/content/drive/MyDrive/COCO_50.zip\" -o\"/content\" -y"
      ]
    },
    {
      "cell_type": "markdown",
      "metadata": {
        "id": "c5nWbQcvbN9V"
      },
      "source": [
        "# Dataset Class"
      ]
    },
    {
      "cell_type": "code",
      "execution_count": 5,
      "metadata": {
        "id": "aIrNkuzrbQG8"
      },
      "outputs": [],
      "source": [
        "import os\n",
        "from glob import glob\n",
        "from torch.utils.data import Dataset\n",
        "from PIL import Image\n",
        "\n",
        "\n",
        "class CustomDataset(Dataset):\n",
        "    def __init__(self, data_root=\"/content/COCO_50\", classes = [\"giraffe\", \"zebra\"], transform=None):\n",
        "        self.data_root = data_root\n",
        "        self.classes = classes\n",
        "\n",
        "        self.image_paths, self.edge_paths, self.sketch_paths = [], [], []\n",
        "\n",
        "        for cls in classes:\n",
        "            img_dir = os.path.join(data_root, \"image\", cls)\n",
        "            edge_dir = os.path.join(data_root, \"edge\", cls)\n",
        "            sketch_dir = os.path.join(data_root, \"sketch\", cls)\n",
        "\n",
        "            for img_path in glob(os.path.join(img_dir, \"*.png\")):\n",
        "                filename = os.path.basename(img_path)\n",
        "                edge_path = os.path.join(edge_dir, filename)\n",
        "                sketch_path = os.path.join(sketch_dir, filename)\n",
        "\n",
        "                self.image_paths.append(img_path)\n",
        "                self.edge_paths.append(edge_path)\n",
        "                self.sketch_paths.append(sketch_path)\n",
        "\n",
        "        self.transform = transform\n",
        "\n",
        "        self.prompts = {\"zebra\": \"a zebra in an empty savanna, dry grass plains, no trees, clear sky, minimalist nature, photorealistic\", \"giraffe\" : \"a giraffe in an open barren plain, flat dry land, no vegetation, soft sunlight, isolated wildlife, high detail\"}\n",
        "\n",
        "    def __len__(self):\n",
        "        return len(self.image_paths)\n",
        "\n",
        "    def get_sketch(self, idx):\n",
        "      return Image.open(self.sketch_paths[idx])\n",
        "\n",
        "    def get_target_image(self, idx):\n",
        "      return Image.open(self.image_paths[idx])\n",
        "\n",
        "    def __getitem__(self, idx):\n",
        "        image = Image.open(self.image_paths[idx])\n",
        "        edge = Image.open(self.edge_paths[idx])\n",
        "        sketch = Image.open(self.sketch_paths[idx])\n",
        "\n",
        "        if self.transform:\n",
        "            image = self.transform(image)\n",
        "            edge = self.transform(edge)\n",
        "            sketch = self.transform(sketch)\n",
        "\n",
        "        class_name = os.path.basename(os.path.dirname(self.image_paths[idx]))\n",
        "\n",
        "        prompt = self.prompts[class_name]\n",
        "\n",
        "        return image, edge, sketch, prompt"
      ]
    },
    {
      "cell_type": "code",
      "execution_count": null,
      "metadata": {
        "id": "2MQnl2iPb0Tw"
      },
      "outputs": [],
      "source": [
        "from torchvision.transforms import ToTensor\n",
        "\n",
        "transform = ToTensor()\n",
        "dataset = CustomDataset(transform=transform)\n",
        "\n",
        "# print(len(dataset))\n",
        "# image, edge, sketch, prompt = dataset[44]\n",
        "# print(prompt)\n",
        "# print(image.shape)\n",
        "# print(edge.shape)\n",
        "# print(sketch.shape)"
      ]
    },
    {
      "cell_type": "markdown",
      "metadata": {
        "id": "sxMmwuFLAJXh"
      },
      "source": [
        "# Models"
      ]
    },
    {
      "cell_type": "code",
      "execution_count": 7,
      "metadata": {
        "id": "fHbFiKvYwSW0"
      },
      "outputs": [],
      "source": [
        "import torch\n",
        "import torch.nn as nn\n",
        "import torch.nn.functional as F\n",
        "import math\n",
        "\n",
        "\n",
        "class ResBlock(nn.Module):\n",
        "    def __init__(self, in_channels, out_channels):\n",
        "        super().__init__()\n",
        "        self.conv1 = nn.Conv2d(in_channels, out_channels, kernel_size=3, padding=1)\n",
        "        self.bn1 = nn.BatchNorm2d(out_channels)\n",
        "        self.relu = nn.ReLU(inplace=True)\n",
        "        self.conv2 = nn.Conv2d(out_channels, out_channels, kernel_size=3, padding=1)\n",
        "        self.bn2 = nn.BatchNorm2d(out_channels)\n",
        "\n",
        "        self.skip_conv = nn.Conv2d(in_channels, out_channels, kernel_size=1) if in_channels != out_channels else nn.Identity()\n",
        "\n",
        "    def forward(self, x):\n",
        "        identity = self.skip_conv(x)\n",
        "        out = self.conv1(x)\n",
        "        out = self.bn1(out)\n",
        "        out = self.relu(out)\n",
        "        out = self.conv2(out)\n",
        "        out = self.bn2(out)\n",
        "        out += identity\n",
        "        out = self.relu(out)\n",
        "        return out\n",
        "\n",
        "\n",
        "class EncoderBlock(nn.Module):\n",
        "    def __init__(self, in_channels, out_channels):\n",
        "        super().__init__()\n",
        "        self.resblock = ResBlock(in_channels, out_channels)\n",
        "        self.pool = nn.MaxPool2d(2)\n",
        "\n",
        "    def forward(self, x):\n",
        "        x_res = self.resblock(x)\n",
        "        p = self.pool(x_res)\n",
        "        return x_res, p\n",
        "\n",
        "class DecoderBlock(nn.Module):\n",
        "    def __init__(self, in_channels, out_channels):\n",
        "        super().__init__()\n",
        "        self.up = nn.ConvTranspose2d(in_channels, out_channels, kernel_size=2, stride=2)\n",
        "        self.resblock = ResBlock(out_channels*2, out_channels)\n",
        "\n",
        "    def forward(self, x, skip):\n",
        "        x = self.up(x)\n",
        "        x = torch.cat([x, skip], dim=1)\n",
        "        x = self.resblock(x)\n",
        "        return x\n",
        "\n",
        "\n",
        "class SelfAttention(nn.Module):\n",
        "    def __init__(self, in_channels):\n",
        "        super().__init__()\n",
        "        self.query = nn.Conv2d(in_channels, in_channels//8, kernel_size=1)\n",
        "        self.key = nn.Conv2d(in_channels, in_channels//8, kernel_size=1)\n",
        "        self.value = nn.Conv2d(in_channels, in_channels, kernel_size=1)\n",
        "        self.gamma = nn.Parameter(torch.zeros(1))\n",
        "\n",
        "    def forward(self, x):\n",
        "        B, C, H, W = x.size()\n",
        "        q = self.query(x).view(B, -1, H*W)\n",
        "        k = self.key(x).view(B, -1, H*W)\n",
        "        v = self.value(x).view(B, C, H*W)\n",
        "        attn = torch.softmax(torch.bmm(q.transpose(1,2), k), dim=-1)\n",
        "        out = torch.bmm(v, attn).view(B, C, H, W)\n",
        "        return self.gamma*out + x\n",
        "\n",
        "\n",
        "class ResLEPUNet(nn.Module):\n",
        "    def __init__(self, in_channels, out_channels, num_layers=4, use_attention=True):\n",
        "        super().__init__()\n",
        "        self.num_layers = num_layers\n",
        "        self.use_attention = use_attention\n",
        "\n",
        "\n",
        "        self.e1 = EncoderBlock(in_channels, 64)\n",
        "        self.e2 = EncoderBlock(64, 128)\n",
        "        self.e3 = EncoderBlock(128, 256)\n",
        "        self.e4 = EncoderBlock(256, 512)\n",
        "\n",
        "\n",
        "        self.b = ResBlock(512, 1024)\n",
        "        if self.use_attention:\n",
        "            self.attn = SelfAttention(1024)\n",
        "\n",
        "\n",
        "        self.d1 = DecoderBlock(1024, 512)\n",
        "        self.d2 = DecoderBlock(512, 256)\n",
        "        self.d3 = DecoderBlock(256, 128)\n",
        "        self.d4 = DecoderBlock(128, 64)\n",
        "\n",
        "\n",
        "        self.out_conv = nn.Conv2d(64, out_channels, kernel_size=1)\n",
        "\n",
        "    def forward(self, x, t):\n",
        "\n",
        "        pos_elem = [torch.sin(2 * math.pi * t * (2 ** -l)) for l in range(self.num_layers)]\n",
        "        pos_encoding = torch.cat(pos_elem, dim=1)\n",
        "        x = torch.cat([x, t, pos_encoding], dim=1)\n",
        "\n",
        "\n",
        "        s1, p1 = self.e1(x)\n",
        "        s2, p2 = self.e2(p1)\n",
        "        s3, p3 = self.e3(p2)\n",
        "        s4, p4 = self.e4(p3)\n",
        "\n",
        "\n",
        "        b = self.b(p4)\n",
        "        if self.use_attention:\n",
        "            b = self.attn(b)\n",
        "\n",
        "\n",
        "        d1 = self.d1(b, s4)\n",
        "        d2 = self.d2(d1, s3)\n",
        "        d3 = self.d3(d2, s2)\n",
        "        d4 = self.d4(d3, s1)\n",
        "\n",
        "\n",
        "        out = self.out_conv(d4)\n",
        "        return out.to(torch.float16)"
      ]
    },
    {
      "cell_type": "code",
      "execution_count": null,
      "metadata": {
        "id": "onjLb73RbJuE"
      },
      "outputs": [],
      "source": [
        "%%capture\n",
        "!pip install einops\n",
        "!pip install torch torchvision torchaudio diffusers matplotlib pillow numpy"
      ]
    },
    {
      "cell_type": "code",
      "execution_count": null,
      "metadata": {
        "id": "Ftf7rm8ybJuE"
      },
      "outputs": [],
      "source": [
        "%%capture\n",
        "from torchvision import models\n",
        "import torch\n",
        "import torch.nn as nn\n",
        "from torchvision import transforms\n",
        "from PIL import Image\n",
        "\n",
        "device = \"cuda\" if torch.cuda.is_available() else \"cpu\"\n",
        "\n",
        "# ResNet18_SketchClassifier\n",
        "model = models.resnet18(pretrained=True)\n",
        "for param in model.parameters():\n",
        "    param.requires_grad = False\n",
        "model.fc = nn.Linear(model.fc.in_features, 2)\n",
        "\n",
        "model.load_state_dict(torch.load(\"/content/drive/MyDrive/ResNet18_SketchClassifier.pth\"))\n",
        "model.to(device)\n",
        "model.eval()\n",
        "\n",
        "# # SketchClassifier\n",
        "# model = SketchClassifier(num_classes=2)\n",
        "# model.load_state_dict(torch.load(\"/content/drive/MyDrive/SketchClassifier.pth\"))\n",
        "# model.to(device)\n",
        "# model.eval()\n",
        "\n",
        "transform = transforms.Compose([\n",
        "    transforms.Grayscale(num_output_channels=3),\n",
        "    transforms.Resize((224, 224)),\n",
        "    transforms.ToTensor(),\n",
        "    transforms.Normalize(mean=[0.485, 0.456, 0.406],\n",
        "                         std=[0.229, 0.224, 0.225])\n",
        "])\n",
        "\n",
        "def predict_new_sketch(model, sketch, transform, classes, device='cuda'):\n",
        "\n",
        "    sketch = transform(sketch).unsqueeze(0).to(device)\n",
        "\n",
        "    model.eval()\n",
        "\n",
        "    with torch.no_grad():\n",
        "        outputs = model(sketch)\n",
        "        probabilities = torch.nn.functional.softmax(outputs, dim=1)\n",
        "        confidence, preds = torch.max(probabilities, 1)\n",
        "\n",
        "    predicted_class = classes[preds.item()]\n",
        "    confidence = confidence.item()\n",
        "\n",
        "    return predicted_class, confidence"
      ]
    },
    {
      "cell_type": "markdown",
      "metadata": {
        "id": "oiWKHM3oLH1r"
      },
      "source": [
        "# Training"
      ]
    },
    {
      "cell_type": "code",
      "execution_count": null,
      "metadata": {
        "id": "_hcHp9w6-vL-"
      },
      "outputs": [],
      "source": [
        "%%capture\n",
        "\n",
        "import os\n",
        "\n",
        "from einops import rearrange\n",
        "import numpy as np\n",
        "import torch\n",
        "from tqdm import tqdm\n",
        "from transformers import CLIPTokenizer\n",
        "import typer\n",
        "from typing_extensions import Annotated\n",
        "\n",
        "import torch.nn.functional as F\n",
        "from torch.utils.data import DataLoader\n",
        "from PIL import Image\n",
        "import gc\n",
        "from diffusers import StableDiffusionPipeline, DDIMScheduler\n",
        "\n",
        "device = \"cuda\" if torch.cuda.is_available() else \"cpu\"\n",
        "dtype = torch.float32\n",
        "\n",
        "noise_scheduler = DDIMScheduler(\n",
        "    beta_start=0.00085,\n",
        "    beta_end=0.012,\n",
        "    beta_schedule=\"scaled_linear\",\n",
        "    num_train_timesteps=1000,\n",
        "    clip_sample=False,\n",
        ")\n",
        "\n",
        "\n",
        "pipe = StableDiffusionPipeline.from_pretrained(\"CompVis/stable-diffusion-v1-4\").to(device)\n",
        "pipe = pipe.to(dtype=dtype)\n",
        "vae, unet = pipe.vae.to(device), pipe.unet.to(device)"
      ]
    },
    {
      "cell_type": "code",
      "execution_count": null,
      "metadata": {
        "id": "nEibZ5S5BI7g"
      },
      "outputs": [],
      "source": [
        "def hook_unet(unet):\n",
        "    blocks_idx = [0, 1, 2]\n",
        "    feature_blocks = []\n",
        "    def hook(module, input, output):\n",
        "        if isinstance(output, tuple):\n",
        "            output = output[0]\n",
        "\n",
        "        if isinstance(output, torch.TensorType):\n",
        "            feature = output.float()\n",
        "            setattr(module, \"output\", feature)\n",
        "        elif isinstance(output, dict):\n",
        "            feature = output.sample.float()\n",
        "            setattr(module, \"output\", feature)\n",
        "        else:\n",
        "            feature = output.float()\n",
        "            setattr(module, \"output\", feature)\n",
        "\n",
        "\n",
        "    for idx, block in enumerate(unet.down_blocks):\n",
        "        if idx in blocks_idx:\n",
        "            block.register_forward_hook(hook)\n",
        "            feature_blocks.append(block)\n",
        "\n",
        "\n",
        "    for block in unet.mid_block.attentions + unet.mid_block.resnets:\n",
        "        block.register_forward_hook(hook)\n",
        "        feature_blocks.append(block)\n",
        "\n",
        "\n",
        "    for idx, block in enumerate(unet.up_blocks):\n",
        "        if idx in blocks_idx:\n",
        "            block.register_forward_hook(hook)\n",
        "            feature_blocks.append(block)\n",
        "\n",
        "    return feature_blocks"
      ]
    },
    {
      "cell_type": "code",
      "execution_count": null,
      "metadata": {
        "id": "EmsJ-dsVBCxQ"
      },
      "outputs": [],
      "source": [
        "feature_blocks = hook_unet(unet)"
      ]
    },
    {
      "cell_type": "code",
      "execution_count": null,
      "metadata": {
        "id": "HsXmi4clBM-R"
      },
      "outputs": [],
      "source": [
        "RLEPUN = ResLEPUNet(9320, 4, 9).to(device)"
      ]
    },
    {
      "cell_type": "code",
      "execution_count": null,
      "metadata": {
        "id": "-WswR-ZbCMJQ"
      },
      "outputs": [],
      "source": [
        "%%capture\n",
        "unet.eval()\n",
        "vae.eval()\n",
        "\n",
        "RLEPUN.requires_grad_(True)\n",
        "unet.requires_grad_(False)"
      ]
    },
    {
      "cell_type": "code",
      "execution_count": null,
      "metadata": {
        "id": "sKcRRbbvLHDK"
      },
      "outputs": [],
      "source": [
        "import os\n",
        "\n",
        "from diffusers import StableDiffusionPipeline\n",
        "from einops import rearrange\n",
        "import numpy as np\n",
        "import torch\n",
        "from tqdm import tqdm\n",
        "from transformers import CLIPTokenizer\n",
        "import typer\n",
        "from typing_extensions import Annotated\n",
        "\n",
        "def image_to_latents(img):\n",
        "    if img.dim() == 3:\n",
        "        img = img.unsqueeze(0)\n",
        "\n",
        "    img = F.interpolate(img, size=(512, 512), mode='bilinear', align_corners=False)\n",
        "\n",
        "    if img.max() > 1.0:\n",
        "        img = img.float() / 255.0\n",
        "    img = (img * 2.0 - 1.0).to(device)\n",
        "\n",
        "    with torch.autocast(device_type='cuda', dtype=vae.dtype):\n",
        "        latents = vae.encode(img).latent_dist.sample()\n",
        "    return (latents * 0.18215).to(dtype=dtype)"
      ]
    },
    {
      "cell_type": "code",
      "execution_count": null,
      "metadata": {
        "id": "g_BE66DyO8hT"
      },
      "outputs": [],
      "source": [
        "def get_noise_level(noise, timesteps):\n",
        "        sqrt_one_minus_alpha_prod = (1 - noise_scheduler.alphas_cumprod[timesteps]) ** 0.5\n",
        "        sqrt_one_minus_alpha_prod = sqrt_one_minus_alpha_prod.flatten()\n",
        "\n",
        "        while len(sqrt_one_minus_alpha_prod.shape) < len(noise.shape):\n",
        "            sqrt_one_minus_alpha_prod = sqrt_one_minus_alpha_prod.unsqueeze(-1)\n",
        "\n",
        "        noise_level = sqrt_one_minus_alpha_prod.to(device) * noise\n",
        "        return noise_level"
      ]
    },
    {
      "cell_type": "code",
      "execution_count": null,
      "metadata": {
        "id": "EZry4232HLN_"
      },
      "outputs": [],
      "source": [
        "import os\n",
        "os.makedirs(\"/content/drive/MyDrive/ResLEPUNet\", exist_ok=True)\n",
        "save_path = \"/content/drive/MyDrive/ResLEPUNet/reslep_model.pt\"\n",
        "\n",
        "\n",
        "batch_size = 1\n",
        "training_step = 2500\n",
        "lr = 1e-4\n",
        "\n",
        "dataloader = DataLoader(dataset, batch_size=batch_size, shuffle=True)\n",
        "optimizer = torch.optim.Adam(RLEPUN.parameters(), lr=lr)"
      ]
    },
    {
      "cell_type": "code",
      "execution_count": null,
      "metadata": {
        "id": "n6X5I7cXCMln"
      },
      "outputs": [],
      "source": [
        "import torch\n",
        "import torch.nn as nn\n",
        "import torch.nn.functional as F\n",
        "\n",
        "class UncertaintyWeightedL1L2(nn.Module):\n",
        "    def __init__(self, init_s1=0.0, init_s2=0.0, gamma=0.05):\n",
        "        super().__init__()\n",
        "        self.s1 = nn.Parameter(torch.tensor(init_s1))\n",
        "        self.s2 = nn.Parameter(torch.tensor(init_s2))\n",
        "        self.gamma = gamma\n",
        "        self.l1 = nn.L1Loss(reduction='mean')\n",
        "        self.mse = nn.MSELoss(reduction='mean')\n",
        "\n",
        "    def forward(self, pred, target):\n",
        "        l1 = self.l1(pred, target)\n",
        "        l2 = self.mse(pred, target)\n",
        "\n",
        "        pred_flat = pred.view(pred.size(0), -1)\n",
        "        target_flat = target.view(target.size(0), -1)\n",
        "        cos_sim = F.cosine_similarity(pred_flat, target_flat, dim=1).mean()\n",
        "\n",
        "        loss = torch.exp(-self.s1) * l1 + torch.exp(-self.s2) * l2 + 0.5 * (self.s1 + self.s2)\n",
        "        loss = loss + self.gamma * (1 - cos_sim)\n",
        "        return loss\n",
        "\n",
        "\n",
        "criterion = UncertaintyWeightedL1L2(gamma=0.05)"
      ]
    },
    {
      "cell_type": "code",
      "execution_count": null,
      "metadata": {
        "colab": {
          "base_uri": "https://localhost:8080/"
        },
        "id": "SmefAq9AFXHy",
        "outputId": "23d5fa3e-78e9-40b3-93c5-79b616153322"
      },
      "outputs": [
        {
          "name": "stdout",
          "output_type": "stream",
          "text": [
            "==================== Epoch 1  ====================\n"
          ]
        },
        {
          "name": "stderr",
          "output_type": "stream",
          "text": [
            "Loss: 0.643: 100%|██████████| 100/100 [03:31<00:00,  2.12s/it]\n"
          ]
        },
        {
          "name": "stdout",
          "output_type": "stream",
          "text": [
            "==================== Epoch 2  ====================\n"
          ]
        },
        {
          "name": "stderr",
          "output_type": "stream",
          "text": [
            "Loss: 1.003: 100%|██████████| 100/100 [03:28<00:00,  2.09s/it]\n"
          ]
        },
        {
          "name": "stdout",
          "output_type": "stream",
          "text": [
            "==================== Epoch 3  ====================\n"
          ]
        },
        {
          "name": "stderr",
          "output_type": "stream",
          "text": [
            "Loss: 0.315: 100%|██████████| 100/100 [03:28<00:00,  2.09s/it]\n"
          ]
        },
        {
          "name": "stdout",
          "output_type": "stream",
          "text": [
            "==================== Epoch 4  ====================\n"
          ]
        },
        {
          "name": "stderr",
          "output_type": "stream",
          "text": [
            "Loss: 0.482: 100%|██████████| 100/100 [03:28<00:00,  2.09s/it]\n"
          ]
        },
        {
          "name": "stdout",
          "output_type": "stream",
          "text": [
            "==================== Epoch 5  ====================\n"
          ]
        },
        {
          "name": "stderr",
          "output_type": "stream",
          "text": [
            "Loss: 0.317: 100%|██████████| 100/100 [03:28<00:00,  2.09s/it]\n"
          ]
        },
        {
          "name": "stdout",
          "output_type": "stream",
          "text": [
            "==================== Epoch 6  ====================\n"
          ]
        },
        {
          "name": "stderr",
          "output_type": "stream",
          "text": [
            "Loss: 0.352: 100%|██████████| 100/100 [03:28<00:00,  2.09s/it]\n"
          ]
        },
        {
          "name": "stdout",
          "output_type": "stream",
          "text": [
            "==================== Epoch 7  ====================\n"
          ]
        },
        {
          "name": "stderr",
          "output_type": "stream",
          "text": [
            "Loss: 0.265: 100%|██████████| 100/100 [03:28<00:00,  2.09s/it]\n"
          ]
        },
        {
          "name": "stdout",
          "output_type": "stream",
          "text": [
            "==================== Epoch 8  ====================\n"
          ]
        },
        {
          "name": "stderr",
          "output_type": "stream",
          "text": [
            "Loss: 0.319: 100%|██████████| 100/100 [03:28<00:00,  2.09s/it]\n"
          ]
        },
        {
          "name": "stdout",
          "output_type": "stream",
          "text": [
            "==================== Epoch 9  ====================\n"
          ]
        },
        {
          "name": "stderr",
          "output_type": "stream",
          "text": [
            "Loss: 0.288: 100%|██████████| 100/100 [03:28<00:00,  2.09s/it]\n"
          ]
        },
        {
          "name": "stdout",
          "output_type": "stream",
          "text": [
            "==================== Epoch 10  ====================\n"
          ]
        },
        {
          "name": "stderr",
          "output_type": "stream",
          "text": [
            "Loss: 0.294: 100%|██████████| 100/100 [03:28<00:00,  2.09s/it]\n"
          ]
        },
        {
          "name": "stdout",
          "output_type": "stream",
          "text": [
            "==================== Epoch 11  ====================\n"
          ]
        },
        {
          "name": "stderr",
          "output_type": "stream",
          "text": [
            "Loss: 0.234: 100%|██████████| 100/100 [03:28<00:00,  2.09s/it]\n"
          ]
        },
        {
          "name": "stdout",
          "output_type": "stream",
          "text": [
            "==================== Epoch 12  ====================\n"
          ]
        },
        {
          "name": "stderr",
          "output_type": "stream",
          "text": [
            "Loss: 0.229: 100%|██████████| 100/100 [03:28<00:00,  2.09s/it]\n"
          ]
        },
        {
          "name": "stdout",
          "output_type": "stream",
          "text": [
            "==================== Epoch 13  ====================\n"
          ]
        },
        {
          "name": "stderr",
          "output_type": "stream",
          "text": [
            "Loss: 0.292: 100%|██████████| 100/100 [03:28<00:00,  2.09s/it]\n"
          ]
        },
        {
          "name": "stdout",
          "output_type": "stream",
          "text": [
            "==================== Epoch 14  ====================\n"
          ]
        },
        {
          "name": "stderr",
          "output_type": "stream",
          "text": [
            "Loss: 0.279: 100%|██████████| 100/100 [03:28<00:00,  2.09s/it]\n"
          ]
        },
        {
          "name": "stdout",
          "output_type": "stream",
          "text": [
            "==================== Epoch 15  ====================\n"
          ]
        },
        {
          "name": "stderr",
          "output_type": "stream",
          "text": [
            "Loss: 0.282: 100%|██████████| 100/100 [03:28<00:00,  2.09s/it]\n"
          ]
        },
        {
          "name": "stdout",
          "output_type": "stream",
          "text": [
            "==================== Epoch 16  ====================\n"
          ]
        },
        {
          "name": "stderr",
          "output_type": "stream",
          "text": [
            "Loss: 0.320: 100%|██████████| 100/100 [03:28<00:00,  2.09s/it]\n"
          ]
        },
        {
          "name": "stdout",
          "output_type": "stream",
          "text": [
            "==================== Epoch 17  ====================\n"
          ]
        },
        {
          "name": "stderr",
          "output_type": "stream",
          "text": [
            "Loss: 0.260: 100%|██████████| 100/100 [03:28<00:00,  2.09s/it]\n"
          ]
        },
        {
          "name": "stdout",
          "output_type": "stream",
          "text": [
            "==================== Epoch 18  ====================\n"
          ]
        },
        {
          "name": "stderr",
          "output_type": "stream",
          "text": [
            "Loss: 0.253: 100%|██████████| 100/100 [03:28<00:00,  2.09s/it]\n"
          ]
        },
        {
          "name": "stdout",
          "output_type": "stream",
          "text": [
            "==================== Epoch 19  ====================\n"
          ]
        },
        {
          "name": "stderr",
          "output_type": "stream",
          "text": [
            "Loss: 0.213: 100%|██████████| 100/100 [03:28<00:00,  2.09s/it]\n"
          ]
        },
        {
          "name": "stdout",
          "output_type": "stream",
          "text": [
            "==================== Epoch 20  ====================\n"
          ]
        },
        {
          "name": "stderr",
          "output_type": "stream",
          "text": [
            "Loss: 0.177: 100%|██████████| 100/100 [03:28<00:00,  2.09s/it]\n"
          ]
        },
        {
          "name": "stdout",
          "output_type": "stream",
          "text": [
            "==================== Epoch 21  ====================\n"
          ]
        },
        {
          "name": "stderr",
          "output_type": "stream",
          "text": [
            "Loss: 0.216: 100%|██████████| 100/100 [03:28<00:00,  2.09s/it]\n"
          ]
        },
        {
          "name": "stdout",
          "output_type": "stream",
          "text": [
            "==================== Epoch 22  ====================\n"
          ]
        },
        {
          "name": "stderr",
          "output_type": "stream",
          "text": [
            "Loss: 0.301: 100%|██████████| 100/100 [03:28<00:00,  2.08s/it]\n"
          ]
        },
        {
          "name": "stdout",
          "output_type": "stream",
          "text": [
            "==================== Epoch 23  ====================\n"
          ]
        },
        {
          "name": "stderr",
          "output_type": "stream",
          "text": [
            "Loss: 0.298: 100%|██████████| 100/100 [03:28<00:00,  2.09s/it]\n"
          ]
        },
        {
          "name": "stdout",
          "output_type": "stream",
          "text": [
            "==================== Epoch 24  ====================\n"
          ]
        },
        {
          "name": "stderr",
          "output_type": "stream",
          "text": [
            "Loss: 0.131: 100%|██████████| 100/100 [03:28<00:00,  2.08s/it]\n"
          ]
        },
        {
          "name": "stdout",
          "output_type": "stream",
          "text": [
            "==================== Epoch 25  ====================\n"
          ]
        },
        {
          "name": "stderr",
          "output_type": "stream",
          "text": [
            "Loss: 0.265: 100%|██████████| 100/100 [03:28<00:00,  2.09s/it]\n"
          ]
        },
        {
          "name": "stdout",
          "output_type": "stream",
          "text": [
            "Finish to optimize. Save file to /content/drive/MyDrive/ResLEPUNet/reslep_model_25.pt\n"
          ]
        }
      ],
      "source": [
        "num_images_per_prompt = 1\n",
        "step = 0\n",
        "while True:\n",
        "  if step % 100 == 0:\n",
        "    print(f\"==================== Epoch {step//100 + 1}  ====================\")\n",
        "  tbar = tqdm(dataloader)\n",
        "  for _, (image, _, sketch, caption) in enumerate(tbar):\n",
        "\n",
        "    edge = 1 - sketch\n",
        "    optimizer.zero_grad()\n",
        "\n",
        "    latent_image = image_to_latents(image)\n",
        "    latent_edge = image_to_latents(edge)\n",
        "\n",
        "\n",
        "    caption_embedding = pipe._encode_prompt(\n",
        "            prompt = caption[0],\n",
        "            device = device,\n",
        "            num_images_per_prompt = num_images_per_prompt,\n",
        "            do_classifier_free_guidance = True)\n",
        "\n",
        "    noise = torch.randn(batch_size, unet.config.in_channels, unet.config.sample_size, unet.config.sample_size).to(device)\n",
        "    timesteps = torch.randint(0, noise_scheduler.config.num_train_timesteps, (batch_size,), device=device).long()\n",
        "    noisy_image = noise_scheduler.add_noise(latent_image, noise, timesteps)\n",
        "    noise_level = get_noise_level(noisy_image, timesteps)\n",
        "\n",
        "    caption_embedding = caption_embedding.to(dtype)\n",
        "\n",
        "\n",
        "    del image, edge, caption, noise, noisy_image\n",
        "    torch.cuda.empty_cache()\n",
        "\n",
        "    with torch.no_grad():\n",
        "        unet(torch.cat([latent_image] * 2), timesteps, encoder_hidden_states=caption_embedding)\n",
        "\n",
        "    latent_image_shape_2 = latent_image.shape[2]\n",
        "\n",
        "    del caption_embedding, latent_image\n",
        "    torch.cuda.empty_cache()\n",
        "\n",
        "    intermediate_result = []\n",
        "    for block in feature_blocks:\n",
        "        resized = F.interpolate(block.output, size=latent_image_shape_2, mode=\"bilinear\")\n",
        "        intermediate_result.append(resized)\n",
        "        block.output = None\n",
        "        del resized\n",
        "    torch.cuda.empty_cache()\n",
        "\n",
        "    intermediate_result = torch.cat(intermediate_result, dim=1)\n",
        "\n",
        "\n",
        "    pred_edge_map = RLEPUN(intermediate_result, torch.cat([noise_level]*2))\n",
        "    _, pred_edge_map = pred_edge_map.chunk(2)\n",
        "\n",
        "    pred_edge_map = pred_edge_map.to(dtype)\n",
        "\n",
        "    loss = criterion(pred_edge_map, latent_edge)\n",
        "    loss.backward()\n",
        "    optimizer.step()\n",
        "\n",
        "    if step % 20 == 0:\n",
        "       tbar.set_description(f\"Loss: {loss.item():.3f}\")\n",
        "\n",
        "    if step >= training_step:\n",
        "        break\n",
        "\n",
        "    step +=  1\n",
        "\n",
        "    del intermediate_result, latent_edge, pred_edge_map\n",
        "    torch.cuda.empty_cache()\n",
        "\n",
        "  if step >= training_step:\n",
        "            epoch = step//100\n",
        "            epoch_save_path = save_path.replace(\".pt\", f\"_{epoch}.pt\")\n",
        "            print(f'Finish to optimize. Save file to {epoch_save_path}')\n",
        "            torch.save(RLEPUN.state_dict(), epoch_save_path)\n",
        "            break"
      ]
    },
    {
      "cell_type": "markdown",
      "metadata": {
        "id": "LOpSyVhubJuJ"
      },
      "source": [
        "# Fine-Tuning"
      ]
    },
    {
      "cell_type": "code",
      "execution_count": 8,
      "metadata": {
        "id": "GKHMZwJabJuJ"
      },
      "outputs": [],
      "source": [
        "%%capture\n",
        "\n",
        "import os\n",
        "\n",
        "from einops import rearrange\n",
        "import numpy as np\n",
        "import torch\n",
        "from tqdm.auto import tqdm\n",
        "from transformers import CLIPTokenizer\n",
        "import typer\n",
        "from typing_extensions import Annotated\n",
        "\n",
        "from torch.utils.data import DataLoader\n",
        "from PIL import Image\n",
        "import gc\n",
        "from diffusers import StableDiffusionPipeline, DDIMScheduler\n",
        "\n",
        "device = \"cuda\" if torch.cuda.is_available() else \"cpu\"\n",
        "dtype = torch.float32\n",
        "\n",
        "noise_scheduler = DDIMScheduler(\n",
        "    beta_start=0.00085,\n",
        "    beta_end=0.012,\n",
        "    beta_schedule=\"scaled_linear\",\n",
        "    num_train_timesteps=1000,\n",
        "    clip_sample=False,\n",
        ")\n",
        "\n",
        "pipe = StableDiffusionPipeline.from_pretrained(\"CompVis/stable-diffusion-v1-4\").to(device)\n",
        "pipe = pipe.to(dtype=dtype)\n",
        "vae, unet, text_encoder, tokenizer = pipe.vae.to(device), pipe.unet.to(device), pipe.text_encoder.to(device), pipe.tokenizer"
      ]
    },
    {
      "cell_type": "code",
      "execution_count": 9,
      "metadata": {
        "id": "WrA-fopobJuJ"
      },
      "outputs": [],
      "source": [
        "save_path = \"/content/drive/MyDrive/ResLEPUNet/reslep_model_60.pt\""
      ]
    },
    {
      "cell_type": "code",
      "execution_count": 10,
      "metadata": {
        "id": "WtmKS-ifbJuJ"
      },
      "outputs": [],
      "source": [
        "%%capture\n",
        "\n",
        "RLEPUN = ResLEPUNet(9320, 4, 9).to(device)\n",
        "checkpoint = torch.load(save_path)\n",
        "RLEPUN.load_state_dict(checkpoint)\n",
        "\n",
        "vae.eval()\n",
        "unet.eval()\n",
        "text_encoder.eval()\n",
        "\n",
        "for p in text_encoder.parameters():\n",
        "    p.requires_grad_(False)\n",
        "\n",
        "for p in unet.parameters():\n",
        "    p.requires_grad_(False)\n",
        "\n",
        "try:\n",
        "    unet.enable_gradient_checkpointing()\n",
        "    pipe.text_encoder.gradient_checkpointing_enable()\n",
        "except AttributeError:\n",
        "    pass\n",
        "\n",
        "\n",
        "RLEPUN.train()"
      ]
    },
    {
      "cell_type": "code",
      "execution_count": 11,
      "metadata": {
        "id": "lFiMN6qobJuJ"
      },
      "outputs": [],
      "source": [
        "import torch\n",
        "import torch.nn as nn\n",
        "import numpy as np\n",
        "import random\n",
        "import math\n",
        "import gc\n",
        "import matplotlib.pyplot as plt\n",
        "\n",
        "from PIL import Image\n",
        "from itertools import repeat\n",
        "from torchvision import transforms, utils\n",
        "from torchvision.transforms import v2\n",
        "import torch.nn.functional as F\n",
        "from albumentations.pytorch import ToTensorV2\n",
        "from PIL import Image, ImageStat\n",
        "from functools import reduce\n",
        "\n",
        "\n",
        "def hook_unet(unet):\n",
        "    blocks_idx = [0, 1, 2]\n",
        "    feature_blocks = []\n",
        "    def hook(module, input, output):\n",
        "        if isinstance(output, tuple):\n",
        "            output = output[0]\n",
        "\n",
        "        if isinstance(output, torch.TensorType):\n",
        "            feature = output.float()\n",
        "            setattr(module, \"output\", feature)\n",
        "        elif isinstance(output, dict):\n",
        "            feature = output.sample.float()\n",
        "            setattr(module, \"output\", feature)\n",
        "        else:\n",
        "            feature = output.float()\n",
        "            setattr(module, \"output\", feature)\n",
        "\n",
        "    for idx, block in enumerate(unet.down_blocks):\n",
        "        if idx in blocks_idx:\n",
        "            block.register_forward_hook(hook)\n",
        "            feature_blocks.append(block)\n",
        "\n",
        "    for block in unet.mid_block.attentions + unet.mid_block.resnets:\n",
        "        block.register_forward_hook(hook)\n",
        "        feature_blocks.append(block)\n",
        "\n",
        "    for idx, block in enumerate(unet.up_blocks):\n",
        "        if idx in blocks_idx:\n",
        "            block.register_forward_hook(hook)\n",
        "            feature_blocks.append(block)\n",
        "\n",
        "    return feature_blocks"
      ]
    },
    {
      "cell_type": "code",
      "execution_count": 12,
      "metadata": {
        "id": "da2ngkRobJuJ"
      },
      "outputs": [],
      "source": [
        "feature_blocks = hook_unet(unet)"
      ]
    },
    {
      "cell_type": "code",
      "execution_count": 13,
      "metadata": {
        "id": "YwTfSFJMbJuK"
      },
      "outputs": [],
      "source": [
        "def prepare_sketch(prompt, num_images_per_prompt, sketch):\n",
        "  sketch = 1 - sketch\n",
        "  if sketch.dim() == 3:\n",
        "      sketch = sketch.unsqueeze(0)\n",
        "\n",
        "  sketch = F.interpolate(sketch, size=(512, 512), mode='bilinear', align_corners=False)\n",
        "\n",
        "  sketch = (sketch * 2.0 - 1.0).to(device)\n",
        "  with torch.autocast(device_type='cuda', dtype=vae.dtype):\n",
        "          latents = vae.encode(sketch).latent_dist.sample()\n",
        "  latents = (latents * 0.18215).to(dtype=dtype)\n",
        "  encoded_edge_maps_final = [edge_map for edge_map in repeat(latents, num_images_per_prompt)]\n",
        "  encoded_edge_maps_tensor = torch.cat(encoded_edge_maps_final, dim = 0)\n",
        "  return encoded_edge_maps_tensor"
      ]
    },
    {
      "cell_type": "code",
      "execution_count": 14,
      "metadata": {
        "id": "NsxMxlDEbJuK"
      },
      "outputs": [],
      "source": [
        "def get_noise_level(noise, timesteps):\n",
        "        sqrt_one_minus_alpha_prod = (1 - noise_scheduler.alphas_cumprod[timesteps]) ** 0.5\n",
        "        sqrt_one_minus_alpha_prod = sqrt_one_minus_alpha_prod.flatten()\n",
        "\n",
        "        while len(sqrt_one_minus_alpha_prod.shape) < len(noise.shape):\n",
        "            sqrt_one_minus_alpha_prod = sqrt_one_minus_alpha_prod.unsqueeze(-1)\n",
        "\n",
        "        noise_level = sqrt_one_minus_alpha_prod.to(device) * noise\n",
        "        return noise_level"
      ]
    },
    {
      "cell_type": "code",
      "execution_count": 15,
      "metadata": {
        "id": "7lDb-2_-bJuK"
      },
      "outputs": [],
      "source": [
        "%%capture\n",
        "!pip install lpips"
      ]
    },
    {
      "cell_type": "code",
      "execution_count": 16,
      "metadata": {
        "colab": {
          "base_uri": "https://localhost:8080/"
        },
        "id": "gHNeRxdfbJuL",
        "outputId": "58a54bfe-d6ee-4c12-ee55-3df3bc5eedf4"
      },
      "outputs": [
        {
          "name": "stdout",
          "output_type": "stream",
          "text": [
            "Setting up [LPIPS] perceptual loss: trunk [alex], v[0.1], spatial [off]\n"
          ]
        },
        {
          "name": "stderr",
          "output_type": "stream",
          "text": [
            "/usr/local/lib/python3.12/dist-packages/torchvision/models/_utils.py:208: UserWarning: The parameter 'pretrained' is deprecated since 0.13 and may be removed in the future, please use 'weights' instead.\n",
            "  warnings.warn(\n",
            "/usr/local/lib/python3.12/dist-packages/torchvision/models/_utils.py:223: UserWarning: Arguments other than a weight enum or `None` for 'weights' are deprecated since 0.13 and may be removed in the future. The current behavior is equivalent to passing `weights=AlexNet_Weights.IMAGENET1K_V1`. You can also use `weights=AlexNet_Weights.DEFAULT` to get the most up-to-date weights.\n",
            "  warnings.warn(msg)\n"
          ]
        },
        {
          "name": "stdout",
          "output_type": "stream",
          "text": [
            "Downloading: \"https://download.pytorch.org/models/alexnet-owt-7be5be79.pth\" to /root/.cache/torch/hub/checkpoints/alexnet-owt-7be5be79.pth\n"
          ]
        },
        {
          "name": "stderr",
          "output_type": "stream",
          "text": [
            "100%|██████████| 233M/233M [00:03<00:00, 77.8MB/s]\n"
          ]
        },
        {
          "name": "stdout",
          "output_type": "stream",
          "text": [
            "Loading model from: /usr/local/lib/python3.12/dist-packages/lpips/weights/v0.1/alex.pth\n"
          ]
        }
      ],
      "source": [
        "import lpips\n",
        "import torch.nn.functional as F\n",
        "import torchvision.transforms as T\n",
        "\n",
        "lpips_loss = lpips.LPIPS(net='alex').to(device)"
      ]
    },
    {
      "cell_type": "code",
      "execution_count": 17,
      "metadata": {
        "id": "7fR_MppJbJuL"
      },
      "outputs": [],
      "source": [
        "def latents_to_image(latents):\n",
        "        latents = (1 / 0.18215) * latents\n",
        "        image = vae.decode(latents).sample\n",
        "        image = (image / 2 + 0.5).clamp(0, 1)\n",
        "        image = image.detach().cpu().permute(0, 2, 3, 1).numpy()\n",
        "        return [Image.fromarray((img * 255).round().astype(\"uint8\")) for img in image]"
      ]
    },
    {
      "cell_type": "code",
      "execution_count": 18,
      "metadata": {
        "id": "qO4B5XAEbJuL"
      },
      "outputs": [],
      "source": [
        "%%capture\n",
        "!git clone https://github.com/mtli/PhotoSketch.git"
      ]
    },
    {
      "cell_type": "code",
      "execution_count": 19,
      "metadata": {
        "id": "PhCmdYUPbJuL"
      },
      "outputs": [],
      "source": [
        "os.makedirs(\"/content/PhotoSketch/checkpoints/pretrained\", exist_ok=True)"
      ]
    },
    {
      "cell_type": "code",
      "execution_count": 20,
      "metadata": {
        "id": "ABhFGRpvbJuP"
      },
      "outputs": [],
      "source": [
        "%%capture\n",
        "!unzip /content/drive/MyDrive/pretrained.zip -d /content/PhotoSketch/checkpoints/pretrained"
      ]
    },
    {
      "cell_type": "code",
      "execution_count": 21,
      "metadata": {
        "id": "i-aCqE6BbJuP"
      },
      "outputs": [],
      "source": [
        "import sys\n",
        "sys.path.append(\"/content/PhotoSketch\")\n",
        "\n",
        "\n",
        "from options.test_options import TestOptions\n",
        "from models.models import create_model\n",
        "\n",
        "\n",
        "sys.argv = ['test.py',\n",
        "            '--name', 'pretrained',\n",
        "            '--dataset_mode', 'test_dir',\n",
        "            '--dataroot', '/content/SketchyCOCO/image/giraffe',\n",
        "            '--results_dir', '/content/SketchyCOCO/sketch/giraffe',\n",
        "            '--checkpoints_dir', '/content/PhotoSketch/checkpoints/',\n",
        "            '--model', 'pix2pix',\n",
        "            '--which_direction', 'AtoB',\n",
        "            '--norm', 'batch',\n",
        "            '--input_nc', '3',\n",
        "            '--output_nc', '1',\n",
        "            '--which_model_netG', 'resnet_9blocks',\n",
        "            '--no_dropout'\n",
        "           ]"
      ]
    },
    {
      "cell_type": "code",
      "execution_count": 22,
      "metadata": {
        "id": "6jPz7XpebJuP"
      },
      "outputs": [],
      "source": [
        "%%capture\n",
        "opt = TestOptions().parse()\n",
        "photosketch_model = create_model(opt)"
      ]
    },
    {
      "cell_type": "code",
      "execution_count": 23,
      "metadata": {
        "id": "bYRmoUWwbJuQ"
      },
      "outputs": [],
      "source": [
        "import os\n",
        "import torch\n",
        "from PIL import Image\n",
        "from torchvision import transforms\n",
        "import matplotlib.pyplot as plt\n",
        "\n",
        "\n",
        "def prepare_input(img):\n",
        "\n",
        "    if isinstance(img, list):\n",
        "        img = img[0]\n",
        "    if isinstance(img, torch.Tensor):\n",
        "        x = img\n",
        "        if x.dim() == 3:\n",
        "            x = x.unsqueeze(0)\n",
        "        return x\n",
        "    else:\n",
        "        if isinstance(img, Image.Image):\n",
        "            pil_img = img\n",
        "        else:\n",
        "            pil_img = Image.fromarray(img)\n",
        "        return to_tensor(pil_img).unsqueeze(0)\n",
        "\n",
        "def make_input_dict(tensor, name=\"input\"):\n",
        "\n",
        "    os.makedirs(\"/content/temp\", exist_ok=True)\n",
        "    return {\n",
        "        \"A\": tensor,\n",
        "        \"B\": tensor,\n",
        "        \"A_paths\": [f\"/content/temp/{name}_A.png\"],\n",
        "        \"B_paths\": [f\"/content/temp/{name}_B.png\"]\n",
        "    }\n",
        "\n",
        "def tensor_to_numpy(t):\n",
        "\n",
        "\n",
        "    import numpy as np\n",
        "\n",
        "    if isinstance(t, torch.Tensor):\n",
        "        if t.dim() == 4:\n",
        "            t = t[0]\n",
        "        t = (t + 1) / 2\n",
        "        t = t.clamp(0,1)\n",
        "        t = t.permute(1,2,0).cpu().numpy()\n",
        "    elif isinstance(t, np.ndarray):\n",
        "        if t.max() > 1.0:\n",
        "            t = t / 255.0\n",
        "    else:\n",
        "        raise TypeError(f\"Unsupported type {type(t)}\")\n",
        "\n",
        "    if t.ndim == 3 and t.shape[2] == 1:\n",
        "        t = t.squeeze(2)\n",
        "\n",
        "    return t"
      ]
    },
    {
      "cell_type": "code",
      "execution_count": 24,
      "metadata": {
        "id": "AaDqvRhfbJuQ"
      },
      "outputs": [],
      "source": [
        "import torch\n",
        "import torch.nn as nn\n",
        "import torch.nn.functional as F\n",
        "\n",
        "\n",
        "class UncertaintyWeightedL1L2(nn.Module):\n",
        "    def __init__(self, init_s1=0.0, init_s2=0.0, gamma=0.05):\n",
        "        super().__init__()\n",
        "        self.s1 = nn.Parameter(torch.tensor(init_s1))\n",
        "        self.s2 = nn.Parameter(torch.tensor(init_s2))\n",
        "        self.gamma = gamma\n",
        "        self.l1 = nn.L1Loss(reduction='mean')\n",
        "        self.mse = nn.MSELoss(reduction='mean')\n",
        "\n",
        "    def forward(self, pred, target):\n",
        "        l1 = self.l1(pred, target)\n",
        "        l2 = self.mse(pred, target)\n",
        "\n",
        "        pred_flat = pred.view(pred.size(0), -1)\n",
        "        target_flat = target.view(target.size(0), -1)\n",
        "        cos_sim = F.cosine_similarity(pred_flat, target_flat, dim=1).mean()\n",
        "\n",
        "        loss = torch.exp(-self.s1) * l1 + torch.exp(-self.s2) * l2 + 0.5 * (self.s1 + self.s2)\n",
        "        loss = loss + self.gamma * (1 - cos_sim)\n",
        "        return loss\n",
        "\n",
        "criterion = UncertaintyWeightedL1L2(gamma=0.05)\n"
      ]
    },
    {
      "cell_type": "code",
      "execution_count": 25,
      "metadata": {
        "id": "BCdow2yibJuQ"
      },
      "outputs": [],
      "source": [
        "import os\n",
        "\n",
        "from diffusers import StableDiffusionPipeline\n",
        "from einops import rearrange\n",
        "import numpy as np\n",
        "import torch\n",
        "from tqdm import tqdm\n",
        "from transformers import CLIPTokenizer\n",
        "import typer\n",
        "from typing_extensions import Annotated\n",
        "\n",
        "def image_to_latents(img):\n",
        "    if img.dim() == 3:\n",
        "        img = img.unsqueeze(0)\n",
        "\n",
        "    img = F.interpolate(img, size=(512, 512), mode='bilinear', align_corners=False)\n",
        "\n",
        "    if img.max() > 1.0:\n",
        "        img = img.float() / 255.0\n",
        "    img = (img * 2.0 - 1.0).to(device)\n",
        "\n",
        "    with torch.autocast(device_type='cuda', dtype=vae.dtype):\n",
        "        latents = vae.encode(img).latent_dist.sample()\n",
        "    return (latents * 0.18215).to(dtype=dtype)"
      ]
    },
    {
      "cell_type": "code",
      "execution_count": 26,
      "metadata": {
        "colab": {
          "base_uri": "https://localhost:8080/"
        },
        "id": "I3gGPotUkLIm",
        "outputId": "5729ad59-c61e-449d-da1b-16e711441cfe"
      },
      "outputs": [
        {
          "data": {
            "text/plain": [
              "torch.autograd.grad_mode.set_grad_enabled(mode=True)"
            ]
          },
          "execution_count": 26,
          "metadata": {},
          "output_type": "execute_result"
        }
      ],
      "source": [
        "import gc\n",
        "import torch\n",
        "\n",
        "\n",
        "torch.backends.cuda.matmul.allow_tf32 = True\n",
        "torch.cuda.empty_cache(); gc.collect()\n",
        "torch.set_grad_enabled(True)\n"
      ]
    },
    {
      "cell_type": "code",
      "execution_count": 27,
      "metadata": {
        "colab": {
          "base_uri": "https://localhost:8080/",
          "height": 84
        },
        "id": "-ANqtTH6KNSr",
        "outputId": "1794b74e-17e7-4801-e0c1-00ff607c682d"
      },
      "outputs": [
        {
          "name": "stdout",
          "output_type": "stream",
          "text": [
            "==================== Epoch 1  ====================\n"
          ]
        },
        {
          "data": {
            "application/vnd.jupyter.widget-view+json": {
              "model_id": "b779e8ea13c34afb8522c73ed9528c76",
              "version_major": 2,
              "version_minor": 0
            },
            "text/plain": [
              "Batches:   0%|          | 0/100 [00:00<?, ?it/s]"
            ]
          },
          "metadata": {},
          "output_type": "display_data"
        },
        {
          "name": "stdout",
          "output_type": "stream",
          "text": [
            "Finish to optimize. Save file to /content/drive/MyDrive/FTResLEPUNet/reslep_model.pt\n"
          ]
        }
      ],
      "source": [
        "import os\n",
        "from tqdm.auto import tqdm\n",
        "import torchvision.transforms as T\n",
        "\n",
        "to_tensor = T.Compose([\n",
        "    T.Resize((256, 256)),\n",
        "    T.ToTensor()\n",
        "])\n",
        "\n",
        "\n",
        "os.makedirs(\"/content/drive/MyDrive/FTResLEPUNet\", exist_ok=True)\n",
        "save_path = \"/content/drive/MyDrive/FTResLEPUNet/reslep_model.pt\"\n",
        "\n",
        "batch_size = 1\n",
        "training_step = 100\n",
        "lr = 1e-5\n",
        "\n",
        "optimizer = torch.optim.AdamW(RLEPUN.parameters(), lr=lr)\n",
        "dataloader = DataLoader(dataset, batch_size=batch_size, shuffle= True, num_workers=1, pin_memory=True, persistent_workers=False, prefetch_factor=2)\n",
        "\n",
        "num_images_per_prompt = 1\n",
        "step = 0\n",
        "\n",
        "num_inference_timesteps = 50\n",
        "classifier_guidance_strength = 8\n",
        "sketch_guidance_strength = 1.4\n",
        "guidance_steps_perc = 0.5\n",
        "\n",
        "noise_scheduler.set_timesteps(num_inference_timesteps)\n",
        "torch.cuda.reset_peak_memory_stats()\n",
        "gc.collect(); torch.cuda.empty_cache()\n",
        "\n",
        "\n",
        "while True:\n",
        "  if step % 100 == 0:\n",
        "    gc.collect(); torch.cuda.empty_cache()\n",
        "    if step//100 != 0:\n",
        "        epoch = step//100\n",
        "        epoch_save_path = save_path.replace(\".pt\", f\"_{epoch}.pt\")\n",
        "        torch.save(RLEPUN.state_dict(), epoch_save_path)\n",
        "        tqdm.write(f'Save file to {epoch_save_path}')\n",
        "    tqdm.write(f\"==================== Epoch {step//100 + 1}  ====================\")\n",
        "\n",
        "  tbar = tqdm(dataloader, desc=\"Batches\", leave=True)\n",
        "  for _, (image, _, sketch, caption) in enumerate(tbar):\n",
        "        image = image.to(device, dtype, non_blocking=True)\n",
        "        sketch = sketch.to(device, dtype, non_blocking=True)\n",
        "        prompt = caption[0]\n",
        "\n",
        "        optimizer.zero_grad()\n",
        "\n",
        "        final_text_embeddings =  pipe._encode_prompt(\n",
        "                    prompt = prompt,\n",
        "                    device = device,\n",
        "                    num_images_per_prompt = num_images_per_prompt,\n",
        "                    do_classifier_free_guidance = True).to(device, dtype)\n",
        "\n",
        "\n",
        "        latents = torch.randn(\n",
        "            batch_size * num_images_per_prompt,\n",
        "            unet.config.in_channels,\n",
        "            unet.config.sample_size,\n",
        "            unet.config.sample_size,\n",
        "            device=device,\n",
        "            dtype=torch.float32\n",
        "        ) * noise_scheduler.init_noise_sigma\n",
        "\n",
        "        init_noise = latents.clone()\n",
        "\n",
        "        encoded_edge_maps = prepare_sketch(prompt = prompt, num_images_per_prompt = num_images_per_prompt, sketch = sketch).to(device, dtype, non_blocking=True)\n",
        "        gradient = True\n",
        "\n",
        "\n",
        "        del caption, prompt\n",
        "        gc.collect(); torch.cuda.empty_cache()\n",
        "\n",
        "        for i, timestep in enumerate(noise_scheduler.timesteps):\n",
        "\n",
        "                    gradient_state = torch.enable_grad()\n",
        "                    if i > int(guidance_steps_perc*num_inference_timesteps):\n",
        "                        gradient_state = torch.no_grad()\n",
        "                        gradient = False\n",
        "\n",
        "                    unet_input = torch.cat([latents] * 2)\n",
        "                    unet_input = noise_scheduler.scale_model_input(unet_input, timestep)\n",
        "                    unet_input = unet_input.detach().to(device, dtype)\n",
        "                    unet_input.requires_grad_(gradient)\n",
        "\n",
        "\n",
        "                    with gradient_state:\n",
        "                        u, t = unet(unet_input, timestep, encoder_hidden_states = final_text_embeddings).sample.chunk(2)\n",
        "                        pred = u + classifier_guidance_strength*(t-u)\n",
        "\n",
        "                    latents_old = unet_input.chunk(2)[1].contiguous()\n",
        "\n",
        "\n",
        "                    with torch.no_grad():\n",
        "                      latents = noise_scheduler.step(pred, timestep, latents).prev_sample\n",
        "\n",
        "                    del pred, u, t\n",
        "                    gc.collect(); torch.cuda.empty_cache()\n",
        "\n",
        "                    with gradient_state:\n",
        "                            intermediate_result = []\n",
        "                            for block in feature_blocks:\n",
        "                                outputs = block.output\n",
        "                                resized = F.interpolate(outputs, size = latents.shape[2], mode = \"bilinear\")\n",
        "                                intermediate_result.append(resized)\n",
        "                                block.output = None\n",
        "                                del outputs, resized, block.output\n",
        "                                torch.cuda.empty_cache()\n",
        "\n",
        "\n",
        "                            intermediate_result = torch.cat(intermediate_result, dim=1)\n",
        "\n",
        "                            noise_level = get_noise_level(init_noise, timestep)\n",
        "\n",
        "                            result = RLEPUN(intermediate_result, torch.cat([noise_level]*2)).to(dtype)\n",
        "                            _, result = result.chunk(2)\n",
        "\n",
        "\n",
        "                            if gradient:\n",
        "                                similarity = torch.linalg.norm(result - encoded_edge_maps)**2\n",
        "\n",
        "                                _, grad = torch.autograd.grad(similarity,  unet_input)[0].chunk(2)\n",
        "\n",
        "                                alpha = (torch.linalg.norm(latents_old - latents)/torch.linalg.norm(grad))*sketch_guidance_strength\n",
        "\n",
        "\n",
        "                                latents -= alpha*grad\n",
        "\n",
        "                                del grad, similarity\n",
        "                                gc.collect(); torch.cuda.empty_cache()\n",
        "\n",
        "\n",
        "                            del intermediate_result, noise_level\n",
        "                            gc.collect(); torch.cuda.empty_cache()\n",
        "\n",
        "                    del unet_input, latents_old\n",
        "                    gc.collect(); torch.cuda.empty_cache()\n",
        "\n",
        "\n",
        "\n",
        "\n",
        "        del encoded_edge_maps, final_text_embeddings, gradient_state\n",
        "        gc.collect(); torch.cuda.empty_cache()\n",
        "\n",
        "        with torch.no_grad():\n",
        "            pred_img = latents_to_image(latents)\n",
        "            if isinstance(pred_img, list):\n",
        "                pred_img = torch.stack([to_tensor(img) for img in pred_img]).to(device, dtype)\n",
        "\n",
        "        pred_img_norm = (pred_img - 0.5) * 2\n",
        "        target_img_norm = (image.to(device, dtype) - 0.5) * 2\n",
        "        loss_image = lpips_loss(pred_img_norm, target_img_norm).mean()\n",
        "\n",
        "        del latents, image, pred_img_norm, target_img_norm\n",
        "        gc.collect(); torch.cuda.empty_cache()\n",
        "\n",
        "        with torch.inference_mode():\n",
        "            photosketch_model.set_input(make_input_dict(pred_img, \"fake\"))\n",
        "            _ = photosketch_model.test()\n",
        "            sketch_fake = photosketch_model.get_current_visuals()[\"fake_B\"]\n",
        "\n",
        "        del pred_img\n",
        "        gc.collect(); torch.cuda.empty_cache()\n",
        "\n",
        "        sketch_fake = torch.from_numpy(sketch_fake).permute(2, 0, 1).unsqueeze(0).float()\n",
        "        latent_pred_edge = image_to_latents((1 - sketch_fake.to(device, dtype)))\n",
        "\n",
        "        del sketch_fake\n",
        "        gc.collect(); torch.cuda.empty_cache()\n",
        "\n",
        "        latent_edge = image_to_latents((1 - sketch))\n",
        "\n",
        "        del sketch\n",
        "        gc.collect(); torch.cuda.empty_cache()\n",
        "\n",
        "        loss_sketch = criterion(result, latent_edge) + 0.5*criterion(latent_pred_edge, latent_edge)\n",
        "\n",
        "        loss = loss_sketch + 0.1* loss_image\n",
        "\n",
        "\n",
        "        del latent_pred_edge, latent_edge, result, loss_image, loss_sketch\n",
        "        gc.collect(); torch.cuda.empty_cache()\n",
        "\n",
        "        for p in RLEPUN.parameters():\n",
        "          p.grad = None\n",
        "\n",
        "        loss.backward()\n",
        "        optimizer.step()\n",
        "        optimizer.zero_grad()\n",
        "\n",
        "        if step % 20 == 0:\n",
        "          tbar.set_description(f\"Loss: {loss.item():.3f}\")\n",
        "\n",
        "        del loss\n",
        "        gc.collect(); torch.cuda.empty_cache()\n",
        "\n",
        "        torch.cuda.synchronize();\n",
        "        gc.collect(); torch.cuda.empty_cache()\n",
        "\n",
        "        if step >= training_step:\n",
        "                break\n",
        "\n",
        "        step +=  1\n",
        "\n",
        "\n",
        "  if step >= training_step:\n",
        "            print(f'Finish to optimize. Save file to {save_path}')\n",
        "            torch.save(RLEPUN.state_dict(), save_path)\n",
        "            break"
      ]
    },
    {
      "cell_type": "markdown",
      "metadata": {
        "id": "ZlrJdJPX3CNR"
      },
      "source": [
        "# Pre-Testing|UI"
      ]
    },
    {
      "cell_type": "code",
      "execution_count": null,
      "metadata": {
        "id": "Jn_KrM3GxiHf"
      },
      "outputs": [],
      "source": [
        "%%capture\n",
        "\n",
        "import os\n",
        "\n",
        "from einops import rearrange\n",
        "import numpy as np\n",
        "import torch\n",
        "from tqdm import tqdm\n",
        "from transformers import CLIPTokenizer\n",
        "import typer\n",
        "from typing_extensions import Annotated\n",
        "\n",
        "\n",
        "from PIL import Image\n",
        "import gc\n",
        "from diffusers import StableDiffusionPipeline, DDIMScheduler\n",
        "\n",
        "device = \"cuda\" if torch.cuda.is_available() else \"cpu\"\n",
        "dtype = torch.float32\n",
        "\n",
        "noise_scheduler = DDIMScheduler(\n",
        "    beta_start=0.00085,\n",
        "    beta_end=0.012,\n",
        "    beta_schedule=\"scaled_linear\",\n",
        "    num_train_timesteps=1000,\n",
        "    clip_sample=False,\n",
        ")\n",
        "\n",
        "pipe = StableDiffusionPipeline.from_pretrained(\"CompVis/stable-diffusion-v1-4\").to(device)\n",
        "pipe = pipe.to(dtype=dtype)\n",
        "vae, unet, text_encoder, tokenizer = pipe.vae.to(device), pipe.unet.to(device), pipe.text_encoder.to(device), pipe.tokenizer"
      ]
    },
    {
      "cell_type": "code",
      "execution_count": null,
      "metadata": {
        "id": "Kw6U3ILzyP46"
      },
      "outputs": [],
      "source": [
        "save_path = \"/content/drive/MyDrive/ResLEPUNet/reslep_model_60.pt\""
      ]
    },
    {
      "cell_type": "code",
      "execution_count": null,
      "metadata": {
        "id": "idKXt15zyA8V"
      },
      "outputs": [],
      "source": [
        "%%capture\n",
        "\n",
        "RLEPUN = ResLEPUNet(9320, 4, 9).to(device)\n",
        "checkpoint = torch.load(save_path)\n",
        "RLEPUN.load_state_dict(checkpoint)\n",
        "\n",
        "vae.eval()\n",
        "unet.eval()\n",
        "text_encoder.eval()\n",
        "RLEPUN.eval()\n",
        "\n",
        "text_encoder.requires_grad_(False)\n",
        "unet.requires_grad_(False)\n",
        "RLEPUN.requires_grad_(False)"
      ]
    },
    {
      "cell_type": "code",
      "execution_count": null,
      "metadata": {
        "id": "cbvMy2oDiPPK"
      },
      "outputs": [],
      "source": [
        "import torch\n",
        "import torch.nn as nn\n",
        "import numpy as np\n",
        "import random\n",
        "import math\n",
        "import tqdm\n",
        "import gc\n",
        "import matplotlib.pyplot as plt\n",
        "\n",
        "from PIL import Image\n",
        "from itertools import repeat\n",
        "from torchvision import transforms, utils\n",
        "from torchvision.transforms import v2\n",
        "import torch.nn.functional as F\n",
        "from albumentations.pytorch import ToTensorV2\n",
        "from PIL import Image, ImageStat\n",
        "from functools import reduce\n",
        "\n",
        "\n",
        "def hook_unet(unet):\n",
        "    blocks_idx = [0, 1, 2]\n",
        "    feature_blocks = []\n",
        "    def hook(module, input, output):\n",
        "        if isinstance(output, tuple):\n",
        "            output = output[0]\n",
        "\n",
        "        if isinstance(output, torch.TensorType):\n",
        "            feature = output.float()\n",
        "            setattr(module, \"output\", feature)\n",
        "        elif isinstance(output, dict):\n",
        "            feature = output.sample.float()\n",
        "            setattr(module, \"output\", feature)\n",
        "        else:\n",
        "            feature = output.float()\n",
        "            setattr(module, \"output\", feature)\n",
        "\n",
        "\n",
        "    for idx, block in enumerate(unet.down_blocks):\n",
        "        if idx in blocks_idx:\n",
        "            block.register_forward_hook(hook)\n",
        "            feature_blocks.append(block)\n",
        "\n",
        "\n",
        "    for block in unet.mid_block.attentions + unet.mid_block.resnets:\n",
        "        block.register_forward_hook(hook)\n",
        "        feature_blocks.append(block)\n",
        "\n",
        "\n",
        "    for idx, block in enumerate(unet.up_blocks):\n",
        "        if idx in blocks_idx:\n",
        "            block.register_forward_hook(hook)\n",
        "            feature_blocks.append(block)\n",
        "\n",
        "    return feature_blocks"
      ]
    },
    {
      "cell_type": "code",
      "execution_count": null,
      "metadata": {
        "id": "8C75JkPzkOmN"
      },
      "outputs": [],
      "source": [
        "feature_blocks = hook_unet(unet)"
      ]
    },
    {
      "cell_type": "code",
      "execution_count": null,
      "metadata": {
        "id": "NZ7uasWZnaBI"
      },
      "outputs": [],
      "source": [
        "def prepare_sketch(prompt, num_images_per_prompt, sketch):\n",
        "  sketch = 1 - sketch\n",
        "  if sketch.dim() == 3:\n",
        "      sketch = sketch.unsqueeze(0)\n",
        "\n",
        "  sketch = F.interpolate(sketch, size=(512, 512), mode='bilinear', align_corners=False)\n",
        "\n",
        "  sketch = (sketch * 2.0 - 1.0).to(device)\n",
        "  with torch.autocast(device_type='cuda', dtype=vae.dtype):\n",
        "          latents = vae.encode(sketch).latent_dist.sample()\n",
        "  latents = (latents * 0.18215).to(dtype=dtype)\n",
        "  encoded_edge_maps_final = [edge_map for edge_map in repeat(latents, num_images_per_prompt)]\n",
        "  encoded_edge_maps_tensor = torch.cat(encoded_edge_maps_final, dim = 0)\n",
        "  return encoded_edge_maps_tensor"
      ]
    },
    {
      "cell_type": "code",
      "execution_count": null,
      "metadata": {
        "id": "pQ2D1173KJ-N"
      },
      "outputs": [],
      "source": [
        "def get_noise_level(noise, timesteps):\n",
        "        sqrt_one_minus_alpha_prod = (1 - noise_scheduler.alphas_cumprod[timesteps]) ** 0.5\n",
        "        sqrt_one_minus_alpha_prod = sqrt_one_minus_alpha_prod.flatten()\n",
        "\n",
        "        while len(sqrt_one_minus_alpha_prod.shape) < len(noise.shape):\n",
        "            sqrt_one_minus_alpha_prod = sqrt_one_minus_alpha_prod.unsqueeze(-1)\n",
        "\n",
        "        noise_level = sqrt_one_minus_alpha_prod.to(device) * noise\n",
        "        return noise_level"
      ]
    },
    {
      "cell_type": "code",
      "execution_count": null,
      "metadata": {
        "id": "5qGarvqr53BL"
      },
      "outputs": [],
      "source": [
        "def latents_to_image(latents):\n",
        "    with torch.no_grad():\n",
        "        latents = (1 / 0.18215) * latents\n",
        "        image = vae.decode(latents).sample\n",
        "        image = (image / 2 + 0.5).clamp(0, 1)\n",
        "        image = image.detach().cpu().permute(0, 2, 3, 1).numpy()\n",
        "    return [Image.fromarray((img * 255).round().astype(\"uint8\")) for img in image]"
      ]
    },
    {
      "cell_type": "markdown",
      "metadata": {
        "id": "nOgpw_Z75aEr"
      },
      "source": [
        "# Test"
      ]
    },
    {
      "cell_type": "code",
      "execution_count": null,
      "metadata": {
        "colab": {
          "base_uri": "https://localhost:8080/"
        },
        "id": "VtmamV5N2Umq",
        "outputId": "7dff7112-059a-4fd5-a3f5-2afcc93d615b"
      },
      "outputs": [
        {
          "name": "stdout",
          "output_type": "stream",
          "text": [
            "Predicted class: giraffe with confidence: 93.01%\n",
            "Prompt: a giraffe in an open barren plain, flat dry land, no vegetation, soft sunlight, isolated wildlife, high detail\n"
          ]
        }
      ],
      "source": [
        "sample_num = 44\n",
        "sketch = dataset.get_sketch(sample_num)\n",
        "\n",
        "predicted_class, confidence = predict_new_sketch(\n",
        "    model=model,\n",
        "    sketch=sketch,\n",
        "    transform=transform,\n",
        "    classes=[\"giraffe\", \"zebra\"],\n",
        "    device=device\n",
        ")\n",
        "\n",
        "print(f\"Predicted class: {predicted_class} with confidence: {confidence:.2%}\")\n",
        "prompts = {\"zebra\": \"a zebra in an empty savanna, dry grass plains, no trees, clear sky, minimalist nature, photorealistic\", \"giraffe\" : \"a giraffe in an open barren plain, flat dry land, no vegetation, soft sunlight, isolated wildlife, high detail\"}\n",
        "prompt = prompts[predicted_class]\n",
        "print(f\"Prompt: {prompt}\")\n",
        "\n",
        "negative_prompt = None\n",
        "num_inference_timesteps = 50\n",
        "num_images_per_prompt = 1\n",
        "classifier_guidance_strength = 8\n",
        "sketch_guidance_strength = 1.4\n",
        "guidance_steps_perc = 0.5\n",
        "_, _, sketch, _ = dataset[sample_num]"
      ]
    },
    {
      "cell_type": "code",
      "execution_count": null,
      "metadata": {
        "colab": {
          "base_uri": "https://localhost:8080/"
        },
        "id": "foxsvPQqKNSv",
        "outputId": "fb0d10b6-7310-4050-ba3b-20a41d63fa75"
      },
      "outputs": [
        {
          "name": "stderr",
          "output_type": "stream",
          "text": [
            "100%|██████████| 50/50 [01:04<00:00,  1.29s/it]\n"
          ]
        }
      ],
      "source": [
        "noise_scheduler.set_timesteps(num_inference_timesteps)\n",
        "batch_size = 1 if isinstance(prompt, str) else len(prompt)\n",
        "\n",
        "final_text_embeddings =  pipe._encode_prompt(\n",
        "            prompt = prompt,\n",
        "            device = device,\n",
        "            num_images_per_prompt = num_images_per_prompt,\n",
        "            do_classifier_free_guidance = True)\n",
        "\n",
        "encoded_edge_maps = prepare_sketch(prompt = prompt, num_images_per_prompt = num_images_per_prompt, sketch = sketch)\n",
        "gradient = True\n",
        "\n",
        "latents = torch.randn(\n",
        "    batch_size * num_images_per_prompt,\n",
        "    unet.config.in_channels,\n",
        "    unet.config.sample_size,\n",
        "    unet.config.sample_size,\n",
        "    device=device,\n",
        "    dtype=torch.float32\n",
        ") * noise_scheduler.init_noise_sigma\n",
        "\n",
        "init_noise = latents.clone()\n",
        "\n",
        "for i, timestep in enumerate(tqdm.tqdm(noise_scheduler.timesteps)):\n",
        "\n",
        "            gradient_state = torch.enable_grad()\n",
        "            if i > int(guidance_steps_perc*num_inference_timesteps):\n",
        "                gradient_state = torch.no_grad()\n",
        "                gradient = False\n",
        "\n",
        "            unet_input = noise_scheduler.scale_model_input(torch.cat([latents] * 2), timestep).to(device)\n",
        "            unet_input = unet_input.requires_grad_(True)\n",
        "            unet_input = unet_input.to(dtype)\n",
        "\n",
        "            with gradient_state:\n",
        "                u, t = unet(unet_input, timestep, encoder_hidden_states = final_text_embeddings).sample.chunk(2)\n",
        "                pred = u + classifier_guidance_strength*(t-u)\n",
        "                del u, t\n",
        "                torch.cuda.empty_cache()\n",
        "\n",
        "            latents_old = unet_input.chunk(2)[1]\n",
        "\n",
        "            with torch.no_grad():\n",
        "              latents = noise_scheduler.step(pred, timestep, latents).prev_sample\n",
        "\n",
        "            del pred\n",
        "            torch.cuda.empty_cache()\n",
        "\n",
        "            with gradient_state:\n",
        "                    intermediate_result = []\n",
        "                    for block in feature_blocks:\n",
        "                        outputs = block.output\n",
        "                        resized = F.interpolate(outputs, size = latents.shape[2], mode = \"bilinear\")\n",
        "                        intermediate_result.append(resized)\n",
        "                        del outputs, resized, block.output\n",
        "                        torch.cuda.empty_cache()\n",
        "\n",
        "\n",
        "                    intermediate_result = torch.cat(intermediate_result, dim=1).to(device)\n",
        "\n",
        "                    noise_level = get_noise_level(init_noise, timestep)\n",
        "\n",
        "                    result = RLEPUN(intermediate_result, torch.cat([noise_level]*2))\n",
        "                    _, result = result.chunk(2)\n",
        "\n",
        "                    if gradient:\n",
        "                        similarity = torch.linalg.norm(result - encoded_edge_maps)**2\n",
        "\n",
        "                        _, grad = torch.autograd.grad(similarity,  unet_input)[0].chunk(2)\n",
        "                        alpha = (torch.linalg.norm(latents_old - latents)/torch.linalg.norm(grad))*sketch_guidance_strength\n",
        "\n",
        "                        latents -= alpha*grad\n",
        "\n",
        "                        del grad, similarity\n",
        "                        torch.cuda.empty_cache()\n",
        "\n",
        "                    del intermediate_result\n",
        "                    torch.cuda.empty_cache()\n",
        "\n",
        "            del unet_input, latents_old\n",
        "            gc.collect()\n",
        "            torch.cuda.empty_cache()"
      ]
    },
    {
      "cell_type": "code",
      "execution_count": null,
      "metadata": {
        "id": "KPLaX1KHzkO3"
      },
      "outputs": [],
      "source": [
        "%%capture\n",
        "!pip install scikit-image lpips clean-fid"
      ]
    },
    {
      "cell_type": "code",
      "execution_count": null,
      "metadata": {
        "id": "1r0yCX5Jzkr7"
      },
      "outputs": [],
      "source": [
        "import numpy as np\n",
        "from skimage.metrics import peak_signal_noise_ratio, structural_similarity\n",
        "import lpips\n",
        "import torchvision.transforms as T\n",
        "import torch\n",
        "\n",
        "def evaluate_image_metrics(gen_image, target_image, device=\"cuda\"):\n",
        "\n",
        "    gen_image = gen_image.resize(target_image.size, Image.BICUBIC)\n",
        "\n",
        "    gen_np = np.array(gen_image)\n",
        "    target_np = np.array(target_image)\n",
        "\n",
        "\n",
        "    psnr_val = peak_signal_noise_ratio(target_np, gen_np, data_range=255)\n",
        "    ssim_val = structural_similarity(target_np, gen_np, data_range=255, channel_axis=-1)\n",
        "\n",
        "\n",
        "    lpips_model = lpips.LPIPS(net='alex').to(device)\n",
        "    transform = T.Compose([\n",
        "        T.Resize((256, 256)),\n",
        "        T.ToTensor(),\n",
        "        T.Normalize([0.5], [0.5])\n",
        "    ])\n",
        "    gen_tensor = transform(gen_image).unsqueeze(0).to(device)\n",
        "    target_tensor = transform(target_image).unsqueeze(0).to(device)\n",
        "    lpips_val = lpips_model(gen_tensor, target_tensor).item()\n",
        "\n",
        "    return {\n",
        "        \"PSNR\": psnr_val,\n",
        "        \"SSIM\": ssim_val,\n",
        "        \"LPIPS\": lpips_val\n",
        "    }\n"
      ]
    },
    {
      "cell_type": "code",
      "execution_count": null,
      "metadata": {
        "colab": {
          "base_uri": "https://localhost:8080/",
          "height": 302
        },
        "id": "ngXK_RhscqZT",
        "outputId": "918271ec-ad6d-411c-be24-d2a5a08cc67a"
      },
      "outputs": [
        {
          "name": "stdout",
          "output_type": "stream",
          "text": [
            "Setting up [LPIPS] perceptual loss: trunk [alex], v[0.1], spatial [off]\n",
            "Loading model from: /usr/local/lib/python3.12/dist-packages/lpips/weights/v0.1/alex.pth\n",
            "Evaluation Results:\n",
            "PSNR: 6.3218\n",
            "SSIM: 0.3374\n",
            "LPIPS: 0.8359\n"
          ]
        },
        {
          "data": {
            "image/png": "[encoded data removed]",
            "text/plain": [
              "<Figure size 1000x500 with 4 Axes>"
            ]
          },
          "metadata": {},
          "output_type": "display_data"
        }
      ],
      "source": [
        "sketch = dataset.get_sketch(sample_num)\n",
        "target_image = dataset.get_target_image(sample_num)\n",
        "\n",
        "for sketch, edge, image, traget in zip([sketch], latents_to_image(result.to(dtype)), latents_to_image(latents), [target_image]):\n",
        "\n",
        "    gen_image = latents_to_image(latents)[0]\n",
        "\n",
        "    metrics = evaluate_image_metrics(gen_image, target_image, device=device)\n",
        "\n",
        "    print(\"Evaluation Results:\")\n",
        "    for k, v in metrics.items():\n",
        "        print(f\"{k}: {v:.4f}\")\n",
        "\n",
        "    fig, axs = plt.subplots(1, 4, figsize = (10, 5))\n",
        "    axs[0].imshow(sketch)\n",
        "    axs[1].imshow(edge)\n",
        "    axs[2].imshow(image)\n",
        "    axs[3].imshow(traget)\n",
        "    axs[0].axis(\"off\")\n",
        "    axs[1].axis(\"off\")\n",
        "    axs[2].axis(\"off\")\n",
        "    axs[3].axis(\"off\")\n",
        "    axs[0].set_title(\"Input Sketch\")\n",
        "    axs[1].set_title(\"Edge Map\")\n",
        "    axs[2].set_title(\"Synthesized Image\")\n",
        "    axs[3].set_title(\"Original Image\")"
      ]
    },
    {
      "cell_type": "markdown",
      "metadata": {
        "id": "m3WE9W6dKiWq"
      },
      "source": [
        "# UI"
      ]
    },
    {
      "cell_type": "code",
      "execution_count": null,
      "metadata": {
        "id": "A7afBIq-KjNY"
      },
      "outputs": [],
      "source": [
        "%%capture\n",
        "!pip install flask pyngrok flask-cors"
      ]
    },
    {
      "cell_type": "code",
      "execution_count": null,
      "metadata": {
        "colab": {
          "base_uri": "https://localhost:8080/"
        },
        "id": "fAVmCO_fKk2D",
        "outputId": "2f8d9598-4adb-4a8e-e249-0ca8936e673c"
      },
      "outputs": [
        {
          "name": "stdout",
          "output_type": "stream",
          "text": [
            "Authtoken saved to configuration file: /root/.config/ngrok/ngrok.yml\n"
          ]
        }
      ],
      "source": [
        "!ngrok config add-authtoken Your_Token"
      ]
    },
    {
      "cell_type": "code",
      "execution_count": null,
      "metadata": {
        "id": "-xHgLOrPO-yu"
      },
      "outputs": [],
      "source": [
        "import base64\n",
        "import io\n",
        "from PIL import Image\n",
        "from torchvision import transforms\n",
        "\n",
        "def generate(sketch):\n",
        "    clf_transform = transforms.Compose([\n",
        "        transforms.Grayscale(num_output_channels=3),\n",
        "        transforms.Resize((224, 224)),\n",
        "        transforms.ToTensor(),\n",
        "        transforms.Normalize(mean=[0.485, 0.456, 0.406],\n",
        "                             std=[0.229, 0.224, 0.225])\n",
        "    ])\n",
        "\n",
        "    predicted_class, confidence = predict_new_sketch(\n",
        "        model=model,\n",
        "        sketch=sketch,\n",
        "        transform=clf_transform,\n",
        "        classes=[\"giraffe\", \"zebra\"],\n",
        "        device=device\n",
        "    )\n",
        "\n",
        "    prompts = {\n",
        "        \"zebra\": \"a zebra in an empty savanna, dry grass plains, no trees, clear sky, minimalist nature, photorealistic\",\n",
        "        \"giraffe\": \"a giraffe in an open barren plain, flat dry land, no vegetation, soft sunlight, isolated wildlife, high detail\"\n",
        "    }\n",
        "    prompt = prompts[predicted_class]\n",
        "\n",
        "    tensor_transform = transforms.ToTensor()\n",
        "    sketch = tensor_transform(sketch)\n",
        "\n",
        "    num_inference_timesteps = 50\n",
        "    num_images_per_prompt = 1\n",
        "    classifier_guidance_strength = 8\n",
        "    sketch_guidance_strength = 1.4\n",
        "    guidance_steps_perc = 0.5\n",
        "\n",
        "    noise_scheduler.set_timesteps(num_inference_timesteps)\n",
        "    batch_size = 1 if isinstance(prompt, str) else len(prompt)\n",
        "\n",
        "    final_text_embeddings =  pipe._encode_prompt(\n",
        "                prompt = prompt,\n",
        "                device = device,\n",
        "                num_images_per_prompt = num_images_per_prompt,\n",
        "                do_classifier_free_guidance = True)\n",
        "\n",
        "    encoded_edge_maps = prepare_sketch(prompt = prompt, num_images_per_prompt = num_images_per_prompt, sketch = sketch)\n",
        "    gradient = True\n",
        "\n",
        "    latents = torch.randn(\n",
        "        batch_size * num_images_per_prompt,\n",
        "        unet.config.in_channels,\n",
        "        unet.config.sample_size,\n",
        "        unet.config.sample_size,\n",
        "        device=device,\n",
        "        dtype=torch.float32\n",
        "    ) * noise_scheduler.init_noise_sigma\n",
        "\n",
        "    init_noise = latents.clone()\n",
        "\n",
        "    for i, timestep in enumerate(tqdm.tqdm(noise_scheduler.timesteps)):\n",
        "\n",
        "                gradient_state = torch.enable_grad()\n",
        "                if i > int(guidance_steps_perc*num_inference_timesteps):\n",
        "                    gradient_state = torch.no_grad()\n",
        "                    gradient = False\n",
        "\n",
        "                unet_input = noise_scheduler.scale_model_input(torch.cat([latents] * 2), timestep).to(device)\n",
        "                unet_input = unet_input.requires_grad_(True)\n",
        "                unet_input = unet_input.to(dtype)\n",
        "\n",
        "                with gradient_state:\n",
        "                    u, t = unet(unet_input, timestep, encoder_hidden_states = final_text_embeddings).sample.chunk(2)\n",
        "                    pred = u + classifier_guidance_strength*(t-u)\n",
        "                    del u, t\n",
        "                    torch.cuda.empty_cache()\n",
        "\n",
        "                latents_old = unet_input.chunk(2)[1]\n",
        "\n",
        "                with torch.no_grad():\n",
        "                  latents = noise_scheduler.step(pred, timestep, latents).prev_sample\n",
        "\n",
        "                del pred\n",
        "                torch.cuda.empty_cache()\n",
        "\n",
        "                with gradient_state:\n",
        "                        intermediate_result = []\n",
        "                        for block in feature_blocks:\n",
        "                            outputs = block.output\n",
        "                            resized = F.interpolate(outputs, size = latents.shape[2], mode = \"bilinear\")\n",
        "                            intermediate_result.append(resized)\n",
        "                            del outputs, resized, block.output\n",
        "                            torch.cuda.empty_cache()\n",
        "\n",
        "\n",
        "                        intermediate_result = torch.cat(intermediate_result, dim=1).to(device)\n",
        "\n",
        "                        noise_level = get_noise_level(init_noise, timestep)\n",
        "\n",
        "                        result = RLEPUN(intermediate_result, torch.cat([noise_level]*2))\n",
        "                        _, result = result.chunk(2)\n",
        "\n",
        "                        if gradient:\n",
        "                            similarity = torch.linalg.norm(result - encoded_edge_maps)**2\n",
        "\n",
        "                            _, grad = torch.autograd.grad(similarity,  unet_input)[0].chunk(2)\n",
        "                            alpha = (torch.linalg.norm(latents_old - latents)/torch.linalg.norm(grad))*sketch_guidance_strength\n",
        "\n",
        "                            latents -= alpha*grad\n",
        "\n",
        "                            del grad, similarity\n",
        "                            torch.cuda.empty_cache()\n",
        "\n",
        "                        del intermediate_result\n",
        "                        torch.cuda.empty_cache()\n",
        "\n",
        "                del unet_input, latents_old, result\n",
        "                gc.collect()\n",
        "                torch.cuda.empty_cache()\n",
        "    return latents_to_image(latents)[0]"
      ]
    },
    {
      "cell_type": "markdown",
      "metadata": {
        "id": "iS8G8zsz6DBq"
      },
      "source": [
        "Note: Copy the link as in Public URL: NgrokTunnel: \"https://bcc34925efb1.ngrok-free.app\"\n",
        "\n",
        "and past it on the \\sketch-vision-ai\\src\\pages\\Index.tsx as\n",
        "\n",
        "    const response = await fetch(\"https://bcc34925efb1.ngrok-free.app/predict\",\n"
      ]
    },
    {
      "cell_type": "code",
      "execution_count": null,
      "metadata": {
        "colab": {
          "base_uri": "https://localhost:8080/"
        },
        "id": "9j43kDVUKnYB",
        "outputId": "0dc6c02c-d7b4-4d29-ce3b-dfd787aeb15c"
      },
      "outputs": [
        {
          "name": "stdout",
          "output_type": "stream",
          "text": [
            "Public URL: NgrokTunnel: \"https://4a7fa5403155.ngrok-free.app\" -> \"http://localhost:5000\"\n",
            " * Serving Flask app '__main__'\n",
            " * Debug mode: off\n"
          ]
        },
        {
          "name": "stderr",
          "output_type": "stream",
          "text": [
            "INFO:werkzeug:\u001b[31m\u001b[1mWARNING: This is a development server. Do not use it in a production deployment. Use a production WSGI server instead.\u001b[0m\n",
            " * Running on http://127.0.0.1:5000\n",
            "INFO:werkzeug:\u001b[33mPress CTRL+C to quit\u001b[0m\n",
            "INFO:werkzeug:127.0.0.1 - - [12/Sep/2025 17:32:17] \"OPTIONS /predict HTTP/1.1\" 200 -\n",
            "100%|██████████| 50/50 [01:01<00:00,  1.23s/it]\n",
            "INFO:werkzeug:127.0.0.1 - - [12/Sep/2025 17:33:20] \"POST /predict HTTP/1.1\" 200 -\n"
          ]
        }
      ],
      "source": [
        "import json\n",
        "from flask import Flask, request, jsonify\n",
        "from flask_cors import CORS\n",
        "from pyngrok import ngrok\n",
        "\n",
        "app = Flask(__name__)\n",
        "\n",
        "public_url = ngrok.connect(5000)\n",
        "print(\"Public URL:\", public_url)\n",
        "\n",
        "CORS(app)\n",
        "\n",
        "@app.route(\"/predict\", methods=[\"POST\"])\n",
        "def predict():\n",
        "    data = request.json\n",
        "    image_data = data.get(\"image\", \"\")\n",
        "\n",
        "    if image_data.startswith(\"data:image\"):\n",
        "        image_data = image_data.split(\",\")[1]\n",
        "\n",
        "    image_bytes = base64.b64decode(image_data)\n",
        "\n",
        "    pil_image = Image.open(io.BytesIO(image_bytes))\n",
        "\n",
        "    if pil_image.mode != \"RGB\":\n",
        "      pil_image = pil_image.convert(\"RGB\")\n",
        "\n",
        "    generated_pil = generate(pil_image)\n",
        "\n",
        "    buffer = io.BytesIO()\n",
        "    generated_pil.save(buffer, format=\"PNG\")\n",
        "    generated_base64 = base64.b64encode(buffer.getvalue()).decode(\"utf-8\")\n",
        "\n",
        "    return jsonify({\"generated_image\": f\"data:image/png;base64,{generated_base64}\"})\n",
        "\n",
        "app.run(port=5000)"
      ]
    }
  ],
  "metadata": {
    "accelerator": "GPU",
    "colab": {
      "collapsed_sections": [
        "uavDGtF9yGtf",
        "c5nWbQcvbN9V",
        "sxMmwuFLAJXh",
        "oiWKHM3oLH1r",
        "LOpSyVhubJuJ",
        "ZlrJdJPX3CNR",
        "nOgpw_Z75aEr",
        "m3WE9W6dKiWq"
      ],
      "gpuType": "T4",
      "provenance": []
    },
    "kernelspec": {
      "display_name": "Python 3",
      "name": "python3"
    },
    "language_info": {
      "name": "python"
    }
  },
  "nbformat": 4,
  "nbformat_minor": 0
}
