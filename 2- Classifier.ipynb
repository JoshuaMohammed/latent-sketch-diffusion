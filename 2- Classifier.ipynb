{
  "cells": [
    {
      "cell_type": "markdown",
      "metadata": {},
      "source": [
        "COCO_50.zip (50 sample for each one of the two classes I used in the research \"Zebra & Giraffe\"): \n",
        "\n",
        "\n",
        "https://drive.google.com/file/d/1_g1yMXFhHRK9EGr17tFs8a3XSMON34oZ/view"
      ]
    },
    {
      "cell_type": "markdown",
      "metadata": {
        "id": "uavDGtF9yGtf"
      },
      "source": [
        "# Get Dataset"
      ]
    },
    {
      "cell_type": "code",
      "execution_count": 1,
      "metadata": {
        "colab": {
          "base_uri": "https://localhost:8080/"
        },
        "id": "Sqdd1zYmxn6e",
        "outputId": "019e037f-eae5-4b86-9af4-466dc9159e3c"
      },
      "outputs": [
        {
          "name": "stdout",
          "output_type": "stream",
          "text": [
            "Mounted at /content/drive\n"
          ]
        }
      ],
      "source": [
        "import os\n",
        "from google.colab import drive\n",
        "\n",
        "drive.mount('/content/drive')"
      ]
    },
    {
      "cell_type": "code",
      "execution_count": 2,
      "metadata": {
        "colab": {
          "base_uri": "https://localhost:8080/"
        },
        "id": "W4shRQG2x1T2",
        "outputId": "71347ac7-e88d-4e3c-ee9c-86790dabf3f6"
      },
      "outputs": [
        {
          "name": "stdout",
          "output_type": "stream",
          "text": [
            "/content\n",
            "/content/zip\n",
            "--2025-06-27 10:44:17--  https://www.7-zip.org/a/7z2301-linux-x64.tar.xz\n",
            "Resolving www.7-zip.org (www.7-zip.org)... 49.12.202.237\n",
            "Connecting to www.7-zip.org (www.7-zip.org)|49.12.202.237|:443... connected.\n",
            "HTTP request sent, awaiting response... 200 OK\n",
            "Length: 1527700 (1.5M) [application/octet-stream]\n",
            "Saving to: ‘7z2301-linux-x64.tar.xz’\n",
            "\n",
            "7z2301-linux-x64.ta 100%[===================>]   1.46M  2.00MB/s    in 0.7s    \n",
            "\n",
            "2025-06-27 10:44:18 (2.00 MB/s) - ‘7z2301-linux-x64.tar.xz’ saved [1527700/1527700]\n",
            "\n",
            "/content\n"
          ]
        }
      ],
      "source": [
        "%cd /content\n",
        "!mkdir zip\n",
        "%cd zip\n",
        "!wget https://www.7-zip.org/a/7z2301-linux-x64.tar.xz\n",
        "!tar -xf 7z2301-linux-x64.tar.xz\n",
        "%cd .."
      ]
    },
    {
      "cell_type": "code",
      "execution_count": 3,
      "metadata": {
        "colab": {
          "base_uri": "https://localhost:8080/"
        },
        "id": "zh4YJn2K0ua7",
        "outputId": "54b53cbd-8a45-4356-abb6-f00da51d9040"
      },
      "outputs": [
        {
          "name": "stdout",
          "output_type": "stream",
          "text": [
            "\n",
            "7-Zip (z) 23.01 (x64) : Copyright (c) 1999-2023 Igor Pavlov : 2023-06-20\n",
            " 64-bit locale=en_US.UTF-8 Threads:2 OPEN_MAX:1048576, ASM\n",
            "\n",
            "Scanning the drive for archives:\n",
            "  0M Scan /content/drive/MyDrive/\b\b\b\b\b\b\b\b\b\b\b\b\b\b\b\b\b\b\b\b\b\b\b\b\b\b\b\b\b\b\b\b\b                                 \b\b\b\b\b\b\b\b\b\b\b\b\b\b\b\b\b\b\b\b\b\b\b\b\b\b\b\b\b\b\b\b\b1 file, 10424099 bytes (10180 KiB)\n",
            "\n",
            "Extracting archive: /content/drive/MyDrive/COCO_50.zip\n",
            "--\n",
            "Path = /content/drive/MyDrive/COCO_50.zip\n",
            "Type = zip\n",
            "Physical Size = 10424099\n",
            "\n",
            "  0%\b\b\b\b    \b\b\b\bEverything is Ok\n",
            "\n",
            "Folders: 13\n",
            "Files: 400\n",
            "Size:       11652329\n",
            "Compressed: 10424099\n"
          ]
        }
      ],
      "source": [
        "!/content/zip/7zz x \"/content/drive/MyDrive/COCO_50.zip\" -o\"/content\" -y"
      ]
    },
    {
      "cell_type": "markdown",
      "metadata": {
        "id": "c5nWbQcvbN9V"
      },
      "source": [
        "# Dataset Class"
      ]
    },
    {
      "cell_type": "code",
      "execution_count": 18,
      "metadata": {
        "id": "aIrNkuzrbQG8"
      },
      "outputs": [],
      "source": [
        "import os\n",
        "from glob import glob\n",
        "from torch.utils.data import Dataset\n",
        "from PIL import Image\n",
        "\n",
        "\n",
        "class CustomDataset(Dataset):\n",
        "    def __init__(self, data_root=\"/content/COCO_50\", classes = [\"giraffe\", \"zebra\"], transform=None):\n",
        "        self.data_root = data_root\n",
        "        self.classes = classes\n",
        "\n",
        "        self.sketch_paths = []\n",
        "\n",
        "        for cls in classes:\n",
        "            img_dir = os.path.join(data_root, \"COCOSketch\", cls)\n",
        "            sketch_dir = os.path.join(data_root, \"sketch\", cls)\n",
        "\n",
        "            for img_path in glob(os.path.join(img_dir, \"*.png\")):\n",
        "                filename = os.path.basename(img_path)\n",
        "                sketch_path = os.path.join(sketch_dir, filename)\n",
        "\n",
        "                self.sketch_paths.append(img_path)\n",
        "                self.sketch_paths.append(sketch_path)\n",
        "\n",
        "\n",
        "        self.transform = transform\n",
        "\n",
        "        self.prompts = {\"zebra\": \"a zebra in an empty savanna, dry grass plains, no trees, clear sky, minimalist nature, photorealistic\", \"giraffe\" : \"a giraffe in an open barren plain, flat dry land, no vegetation, soft sunlight, isolated wildlife, high detail\"}\n",
        "\n",
        "    def __len__(self):\n",
        "        return len(self.sketch_paths)\n",
        "\n",
        "    def get_sketch(self, idx):\n",
        "      return Image.open(self.sketch_paths[idx])\n",
        "\n",
        "    def __getitem__(self, idx):\n",
        "        sketch = Image.open(self.sketch_paths[idx])\n",
        "\n",
        "        if self.transform:\n",
        "            sketch = self.transform(sketch)\n",
        "\n",
        "        class_name = os.path.basename(os.path.dirname(self.sketch_paths[idx]))\n",
        "\n",
        "        prompt = self.prompts[class_name]\n",
        "        # prompt = f\"a {class_name}\"\n",
        "        label = self.classes.index(class_name)\n",
        "\n",
        "        return sketch, label\n",
        "\n",
        "from torchvision import transforms\n",
        "\n",
        "transform = transforms.Compose([\n",
        "    transforms.Grayscale(num_output_channels=3),\n",
        "    transforms.Resize((224, 224)),\n",
        "    transforms.ToTensor(),\n",
        "    transforms.Normalize(mean=[0.485, 0.456, 0.406],  # ImageNet stats\n",
        "                         std=[0.229, 0.224, 0.225])\n",
        "])\n",
        "\n",
        "\n",
        "dataset = CustomDataset(transform=transform)"
      ]
    },
    {
      "cell_type": "code",
      "execution_count": 19,
      "metadata": {
        "id": "2BHoRDtoqJ_A"
      },
      "outputs": [],
      "source": [
        "from sklearn.model_selection import train_test_split\n",
        "from torch.utils.data import Subset\n",
        "\n",
        "labels = [dataset[i][1] for i in range(len(dataset))]\n",
        "\n",
        "train_indices, test_indices = train_test_split(\n",
        "    list(range(len(labels))),\n",
        "    test_size=0.2,\n",
        "    stratify=labels,\n",
        "    random_state=42\n",
        ")\n",
        "\n",
        "train_dataset = Subset(dataset, train_indices)\n",
        "test_dataset = Subset(dataset, test_indices)"
      ]
    },
    {
      "cell_type": "code",
      "execution_count": 20,
      "metadata": {
        "colab": {
          "base_uri": "https://localhost:8080/"
        },
        "id": "enszAADZrmbK",
        "outputId": "26b8dae4-dcce-446e-aa39-182065f79cf1"
      },
      "outputs": [
        {
          "name": "stdout",
          "output_type": "stream",
          "text": [
            "Train set distribution:\n",
            "Class 0: 80 samples, 50.00%\n",
            "Class 1: 80 samples, 50.00%\n",
            "Test set distribution:\n",
            "Class 0: 20 samples, 50.00%\n",
            "Class 1: 20 samples, 50.00%\n"
          ]
        }
      ],
      "source": [
        "# Extract labels from train and test datasets\n",
        "train_labels = [dataset[i][1] for i in train_dataset.indices]\n",
        "test_labels = [dataset[i][1] for i in test_dataset.indices]\n",
        "from collections import Counter\n",
        "\n",
        "train_label_counts = Counter(train_labels)\n",
        "test_label_counts = Counter(test_labels)\n",
        "\n",
        "def print_distribution(label_counts, total_samples):\n",
        "    for cls, count in label_counts.items():\n",
        "        print(f\"Class {cls}: {count} samples, {100 * count / total_samples:.2f}%\")\n",
        "\n",
        "print(\"Train set distribution:\")\n",
        "print_distribution(train_label_counts, len(train_labels))\n",
        "\n",
        "print(\"Test set distribution:\")\n",
        "print_distribution(test_label_counts, len(test_labels))\n"
      ]
    },
    {
      "cell_type": "markdown",
      "metadata": {
        "id": "GI0KstQXuOvv"
      },
      "source": [
        "# Classification"
      ]
    },
    {
      "cell_type": "code",
      "execution_count": 21,
      "metadata": {
        "id": "LvNm6tqRuOFG"
      },
      "outputs": [],
      "source": [
        "import torch\n",
        "import torch.nn as nn\n",
        "import torch.optim as optim\n",
        "from torch.utils.data import DataLoader\n",
        "from torchvision import transforms\n",
        "\n",
        "class SketchClassifier(nn.Module):\n",
        "    def __init__(self, num_classes=2):\n",
        "        super(SketchClassifier, self).__init__()\n",
        "        self.features = nn.Sequential(\n",
        "            nn.Conv2d(3, 32, kernel_size=3, stride=1, padding=1),\n",
        "            nn.BatchNorm2d(32),\n",
        "            nn.ReLU(),\n",
        "            nn.MaxPool2d(2),  # 128x128\n",
        "\n",
        "            nn.Conv2d(32, 64, kernel_size=3, padding=1),\n",
        "            nn.BatchNorm2d(64),\n",
        "            nn.ReLU(),\n",
        "            nn.MaxPool2d(2),  # 64x64\n",
        "\n",
        "            nn.Conv2d(64, 128, kernel_size=3, padding=1),\n",
        "            nn.BatchNorm2d(128),\n",
        "            nn.ReLU(),\n",
        "            nn.MaxPool2d(2),  # 32x32\n",
        "\n",
        "            nn.Conv2d(128, 256, kernel_size=3, padding=1),\n",
        "            nn.BatchNorm2d(256),\n",
        "            nn.ReLU(),\n",
        "            nn.AdaptiveAvgPool2d((1, 1)),  # 256x1x1\n",
        "        )\n",
        "\n",
        "        self.classifier = nn.Sequential(\n",
        "            nn.Flatten(),\n",
        "            nn.Linear(256, 128),\n",
        "            nn.ReLU(),\n",
        "            nn.Dropout(0.5),\n",
        "            nn.Linear(128, num_classes)\n",
        "        )\n",
        "\n",
        "\n",
        "    def forward(self, x):\n",
        "        x = self.features(x)\n",
        "        x = self.classifier(x)\n",
        "        return x"
      ]
    },
    {
      "cell_type": "code",
      "execution_count": 22,
      "metadata": {
        "id": "W3GZt31xqjI0"
      },
      "outputs": [],
      "source": [
        "import torch\n",
        "def train_loop(dataloader, model, loss_fn, optimizer):\n",
        "    model.train()\n",
        "    correct = 0\n",
        "    total = 0\n",
        "\n",
        "    for batch, ( X, y) in enumerate(dataloader):\n",
        "        X, y = X.to(device), y.to(device)\n",
        "\n",
        "        pred = model(X)\n",
        "        loss = loss_fn(pred, y)\n",
        "\n",
        "        optimizer.zero_grad()\n",
        "        loss.backward()\n",
        "        optimizer.step()\n",
        "\n",
        "        correct += (pred.argmax(1) == y).type(torch.float).sum().item()\n",
        "        total += y.size(0)\n",
        "\n",
        "        if total % 80 == 0:\n",
        "            accuracy = correct / total\n",
        "            print(f\"Loss: {loss.item():.4f}, Accuracy: {accuracy * 100:.2f}%\")\n",
        "\n",
        "        del X, y, pred, loss\n",
        "        torch.cuda.empty_cache()"
      ]
    },
    {
      "cell_type": "code",
      "execution_count": 23,
      "metadata": {
        "id": "a8Dd-bnvq4UA"
      },
      "outputs": [],
      "source": [
        "def test_loop(dataloader, model, loss_fn):\n",
        "    model.eval()\n",
        "    test_loss, correct = 0, 0\n",
        "    total = 0\n",
        "\n",
        "    with torch.no_grad():\n",
        "        for X, y in dataloader:\n",
        "            X, y = X.to(device), y.to(device)\n",
        "            pred = model(X)\n",
        "\n",
        "            test_loss += loss_fn(pred, y).item()\n",
        "            correct += (pred.argmax(1) == y).type(torch.float).sum().item()\n",
        "            total += y.size(0)\n",
        "\n",
        "            del X, y, pred\n",
        "            torch.cuda.empty_cache()\n",
        "\n",
        "    accuracy = correct / total\n",
        "    avg_loss = test_loss / len(dataloader)\n",
        "    print(f\"Test Error: Accuracy: {accuracy * 100:.2f}%, Avg loss: {avg_loss:.4f}\")\n",
        "    return avg_loss"
      ]
    },
    {
      "cell_type": "code",
      "execution_count": null,
      "metadata": {
        "colab": {
          "base_uri": "https://localhost:8080/"
        },
        "id": "gqlP7vHoJH-D",
        "outputId": "6b9dacd6-c33d-4d5c-b690-56f6283cecb1"
      },
      "outputs": [
        {
          "name": "stdout",
          "output_type": "stream",
          "text": [
            "\n",
            "Epoch 1/50\n",
            "Loss: 0.6144, Accuracy: 73.75%\n",
            "Loss: 0.5777, Accuracy: 76.25%\n",
            "Test Error: Accuracy: 80.00%, Avg loss: 0.6442\n",
            "\n",
            "Epoch 2/50\n",
            "Loss: 0.6174, Accuracy: 87.50%\n",
            "Loss: 0.5576, Accuracy: 83.75%\n",
            "Test Error: Accuracy: 85.00%, Avg loss: 0.5673\n",
            "\n",
            "Epoch 3/50\n",
            "Loss: 0.4948, Accuracy: 87.50%\n",
            "Loss: 0.4450, Accuracy: 87.50%\n",
            "Test Error: Accuracy: 90.00%, Avg loss: 0.5305\n",
            "\n",
            "Epoch 4/50\n",
            "Loss: 0.5062, Accuracy: 80.00%\n",
            "Loss: 0.4239, Accuracy: 83.75%\n",
            "Test Error: Accuracy: 92.50%, Avg loss: 0.5145\n",
            "\n",
            "Epoch 5/50\n",
            "Loss: 0.4260, Accuracy: 83.75%\n",
            "Loss: 0.7640, Accuracy: 82.50%\n",
            "Test Error: Accuracy: 70.00%, Avg loss: 0.5465\n",
            "\n",
            "Epoch 6/50\n",
            "Loss: 0.4396, Accuracy: 82.50%\n",
            "Loss: 0.4131, Accuracy: 88.12%\n",
            "Test Error: Accuracy: 92.50%, Avg loss: 0.4666\n",
            "\n",
            "Epoch 7/50\n",
            "Loss: 0.6552, Accuracy: 85.00%\n",
            "Loss: 0.3832, Accuracy: 88.75%\n",
            "Test Error: Accuracy: 90.00%, Avg loss: 0.4842\n",
            "\n",
            "Epoch 8/50\n",
            "Loss: 0.4101, Accuracy: 92.50%\n",
            "Loss: 0.3739, Accuracy: 91.88%\n",
            "Test Error: Accuracy: 90.00%, Avg loss: 0.4255\n",
            "\n",
            "Epoch 9/50\n",
            "Loss: 0.3226, Accuracy: 96.25%\n",
            "Loss: 0.3422, Accuracy: 91.88%\n",
            "Test Error: Accuracy: 92.50%, Avg loss: 0.3987\n",
            "\n",
            "Epoch 10/50\n",
            "Loss: 0.2811, Accuracy: 90.00%\n",
            "Loss: 0.4679, Accuracy: 89.38%\n",
            "Test Error: Accuracy: 77.50%, Avg loss: 0.4824\n",
            "\n",
            "Epoch 11/50\n",
            "Loss: 0.2698, Accuracy: 97.50%\n",
            "Loss: 0.3006, Accuracy: 93.12%\n",
            "Test Error: Accuracy: 90.00%, Avg loss: 0.3957\n",
            "\n",
            "Epoch 12/50\n",
            "Loss: 0.3384, Accuracy: 86.25%\n",
            "Loss: 0.3091, Accuracy: 87.50%\n",
            "Test Error: Accuracy: 92.50%, Avg loss: 0.3721\n",
            "\n",
            "Epoch 13/50\n",
            "Loss: 0.2811, Accuracy: 92.50%\n",
            "Loss: 0.4298, Accuracy: 93.12%\n",
            "Test Error: Accuracy: 90.00%, Avg loss: 0.3676\n",
            "\n",
            "Epoch 14/50\n",
            "Loss: 0.3965, Accuracy: 93.75%\n",
            "Loss: 0.2555, Accuracy: 96.88%\n",
            "Test Error: Accuracy: 75.00%, Avg loss: 0.4756\n",
            "\n",
            "Epoch 15/50\n",
            "Loss: 0.2355, Accuracy: 95.00%\n",
            "Loss: 0.4370, Accuracy: 93.12%\n",
            "Test Error: Accuracy: 67.50%, Avg loss: 0.5802\n",
            "\n",
            "Epoch 16/50\n",
            "Loss: 0.2296, Accuracy: 95.00%\n",
            "Loss: 0.2546, Accuracy: 94.38%\n",
            "Test Error: Accuracy: 90.00%, Avg loss: 0.3691\n",
            "\n",
            "Epoch 17/50\n",
            "Loss: 0.2709, Accuracy: 95.00%\n",
            "Loss: 0.2354, Accuracy: 94.38%\n",
            "Test Error: Accuracy: 92.50%, Avg loss: 0.3435\n",
            "\n",
            "Epoch 18/50\n",
            "Loss: 0.3412, Accuracy: 92.50%\n",
            "Loss: 0.3438, Accuracy: 95.00%\n",
            "Test Error: Accuracy: 57.50%, Avg loss: 0.6614\n",
            "\n",
            "Epoch 19/50\n",
            "Loss: 0.2775, Accuracy: 93.75%\n",
            "Loss: 0.2519, Accuracy: 95.00%\n",
            "Test Error: Accuracy: 90.00%, Avg loss: 0.3798\n",
            "\n",
            "Epoch 20/50\n",
            "Loss: 0.2147, Accuracy: 97.50%\n",
            "Loss: 0.2607, Accuracy: 93.12%\n",
            "Test Error: Accuracy: 67.50%, Avg loss: 0.8104\n",
            "\n",
            "Epoch 21/50\n",
            "Loss: 0.3342, Accuracy: 93.75%\n",
            "Loss: 0.2852, Accuracy: 95.00%\n",
            "Test Error: Accuracy: 90.00%, Avg loss: 0.3405\n",
            "\n",
            "Epoch 22/50\n",
            "Loss: 0.2842, Accuracy: 97.50%\n",
            "Loss: 0.2298, Accuracy: 96.25%\n",
            "Test Error: Accuracy: 70.00%, Avg loss: 0.5516\n",
            "\n",
            "Epoch 23/50\n",
            "Loss: 0.2234, Accuracy: 100.00%\n",
            "Loss: 0.2604, Accuracy: 97.50%\n",
            "Test Error: Accuracy: 75.00%, Avg loss: 0.4423\n",
            "\n",
            "Epoch 24/50\n",
            "Loss: 0.2354, Accuracy: 93.75%\n",
            "Loss: 0.2161, Accuracy: 95.00%\n",
            "Test Error: Accuracy: 92.50%, Avg loss: 0.3280\n",
            "\n",
            "Epoch 25/50\n",
            "Loss: 0.6319, Accuracy: 95.00%\n",
            "Loss: 0.4158, Accuracy: 95.00%\n",
            "Test Error: Accuracy: 92.50%, Avg loss: 0.3419\n",
            "\n",
            "Epoch 26/50\n",
            "Loss: 0.2332, Accuracy: 97.50%\n",
            "Loss: 0.2150, Accuracy: 97.50%\n",
            "Test Error: Accuracy: 97.50%, Avg loss: 0.3165\n",
            "\n",
            "Epoch 27/50\n",
            "Loss: 0.2176, Accuracy: 98.75%\n",
            "Loss: 0.3226, Accuracy: 96.88%\n",
            "Test Error: Accuracy: 85.00%, Avg loss: 0.4111\n",
            "\n",
            "Epoch 28/50\n",
            "Loss: 0.2204, Accuracy: 96.25%\n",
            "Loss: 0.2597, Accuracy: 97.50%\n",
            "Test Error: Accuracy: 85.00%, Avg loss: 0.3951\n",
            "\n",
            "Epoch 29/50\n",
            "Loss: 0.2610, Accuracy: 97.50%\n",
            "Loss: 0.2726, Accuracy: 96.25%\n",
            "Test Error: Accuracy: 62.50%, Avg loss: 0.6246\n",
            "\n",
            "Epoch 30/50\n",
            "Loss: 0.8881, Accuracy: 92.50%\n",
            "Loss: 0.2474, Accuracy: 95.62%\n",
            "Test Error: Accuracy: 95.00%, Avg loss: 0.3240\n",
            "\n",
            "Epoch 31/50\n",
            "Loss: 0.2307, Accuracy: 98.75%\n",
            "Loss: 0.2108, Accuracy: 98.75%\n",
            "Test Error: Accuracy: 82.50%, Avg loss: 0.4316\n",
            "\n",
            "Epoch 32/50\n",
            "Loss: 0.2127, Accuracy: 100.00%\n",
            "Loss: 0.2187, Accuracy: 98.12%\n",
            "Test Error: Accuracy: 77.50%, Avg loss: 0.4396\n",
            "\n",
            "Epoch 33/50\n",
            "Loss: 0.2378, Accuracy: 98.75%\n",
            "Loss: 0.2078, Accuracy: 98.75%\n",
            "Test Error: Accuracy: 97.50%, Avg loss: 0.3022\n",
            "\n",
            "Epoch 34/50\n",
            "Loss: 0.2939, Accuracy: 98.75%\n",
            "Loss: 0.2290, Accuracy: 98.12%\n",
            "Test Error: Accuracy: 97.50%, Avg loss: 0.2987\n",
            "\n",
            "Epoch 35/50\n",
            "Loss: 0.2222, Accuracy: 98.75%\n",
            "Loss: 0.2370, Accuracy: 99.38%\n",
            "Test Error: Accuracy: 95.00%, Avg loss: 0.3117\n",
            "\n",
            "Epoch 36/50\n",
            "Loss: 0.3193, Accuracy: 97.50%\n",
            "Loss: 0.2422, Accuracy: 98.75%\n",
            "Test Error: Accuracy: 97.50%, Avg loss: 0.2933\n",
            "\n",
            "Epoch 37/50\n",
            "Loss: 0.2176, Accuracy: 100.00%\n",
            "Loss: 0.3512, Accuracy: 99.38%\n",
            "Test Error: Accuracy: 95.00%, Avg loss: 0.3055\n",
            "\n",
            "Epoch 38/50\n",
            "Loss: 0.2266, Accuracy: 100.00%\n",
            "Loss: 0.2378, Accuracy: 99.38%\n",
            "Test Error: Accuracy: 97.50%, Avg loss: 0.2920\n",
            "\n",
            "Epoch 39/50\n",
            "Loss: 0.2142, Accuracy: 98.75%\n",
            "Loss: 0.2320, Accuracy: 99.38%\n",
            "Test Error: Accuracy: 95.00%, Avg loss: 0.3034\n",
            "\n",
            "Epoch 40/50\n",
            "Loss: 0.2102, Accuracy: 100.00%\n",
            "Loss: 0.2258, Accuracy: 98.75%\n",
            "Test Error: Accuracy: 92.50%, Avg loss: 0.3178\n",
            "\n",
            "Epoch 41/50\n",
            "Loss: 0.2156, Accuracy: 98.75%\n",
            "Loss: 0.3956, Accuracy: 96.88%\n",
            "Test Error: Accuracy: 92.50%, Avg loss: 0.3236\n",
            "\n",
            "Epoch 42/50\n",
            "Loss: 0.2102, Accuracy: 100.00%\n",
            "Loss: 0.2171, Accuracy: 98.12%\n",
            "Test Error: Accuracy: 100.00%, Avg loss: 0.3019\n",
            "\n",
            "Epoch 43/50\n",
            "Loss: 0.2082, Accuracy: 98.75%\n",
            "Loss: 0.2328, Accuracy: 99.38%\n",
            "Test Error: Accuracy: 97.50%, Avg loss: 0.2951\n",
            "\n",
            "Epoch 44/50\n",
            "Loss: 0.2182, Accuracy: 100.00%\n",
            "Loss: 0.2281, Accuracy: 98.12%\n",
            "Test Error: Accuracy: 95.00%, Avg loss: 0.3055\n",
            "\n",
            "Epoch 45/50\n",
            "Loss: 0.2323, Accuracy: 98.75%\n",
            "Loss: 0.2216, Accuracy: 99.38%\n",
            "Test Error: Accuracy: 95.00%, Avg loss: 0.3042\n",
            "\n",
            "Epoch 46/50\n",
            "Loss: 0.2813, Accuracy: 98.75%\n",
            "Loss: 0.2316, Accuracy: 98.75%\n",
            "Test Error: Accuracy: 97.50%, Avg loss: 0.2971\n",
            "\n",
            "Epoch 47/50\n",
            "Loss: 0.2224, Accuracy: 97.50%\n",
            "Loss: 0.3704, Accuracy: 95.62%\n",
            "Test Error: Accuracy: 97.50%, Avg loss: 0.2955\n",
            "\n",
            "Epoch 48/50\n",
            "Loss: 0.2172, Accuracy: 100.00%\n",
            "Loss: 0.3132, Accuracy: 98.12%\n",
            "Test Error: Accuracy: 97.50%, Avg loss: 0.2954\n",
            "\n",
            "Epoch 49/50\n",
            "Loss: 0.2628, Accuracy: 98.75%\n",
            "Loss: 0.2816, Accuracy: 98.75%\n",
            "Test Error: Accuracy: 97.50%, Avg loss: 0.3002\n",
            "\n",
            "Epoch 50/50\n",
            "Loss: 0.3372, Accuracy: 98.75%\n",
            "Loss: 0.2243, Accuracy: 99.38%\n",
            "Test Error: Accuracy: 97.50%, Avg loss: 0.2989\n"
          ]
        }
      ],
      "source": [
        "epochs = 50\n",
        "\n",
        "train_loader = DataLoader(train_dataset, batch_size=8, shuffle=True, num_workers=0)\n",
        "test_loader = DataLoader(test_dataset, batch_size=8, shuffle=False)\n",
        "\n",
        "device = torch.device(\"cuda\" if torch.cuda.is_available() else \"cpu\")\n",
        "model = SketchClassifier(num_classes=2).to(device)\n",
        "\n",
        "loss_fn = nn.CrossEntropyLoss(label_smoothing=0.1)\n",
        "optimizer = optim.Adam(model.parameters(), lr=1e-4, weight_decay=1e-5)\n",
        "scheduler = torch.optim.lr_scheduler.ReduceLROnPlateau(optimizer, mode='min', factor=0.1, patience=5, verbose=True)\n",
        "\n",
        "\n",
        "for epoch in range(epochs):\n",
        "    print(f\"\\nEpoch {epoch+1}/{epochs}\")\n",
        "    train_loop(train_loader, model, loss_fn, optimizer)\n",
        "\n",
        "    val_loss = test_loop(test_loader, model, loss_fn)\n",
        "    scheduler.step(val_loss)"
      ]
    },
    {
      "cell_type": "code",
      "execution_count": 30,
      "metadata": {
        "colab": {
          "base_uri": "https://localhost:8080/"
        },
        "id": "mdxOYYE9L30B",
        "outputId": "7b70e2ce-26f9-4226-fe34-915a6a90a37b"
      },
      "outputs": [
        {
          "name": "stdout",
          "output_type": "stream",
          "text": [
            "Model saved to /content/drive/MyDrive/SketchClassifier.pth\n"
          ]
        }
      ],
      "source": [
        "import torch\n",
        "\n",
        "save_path = \"/content/drive/MyDrive/SketchClassifier.pth\"\n",
        "torch.save(model.state_dict(), save_path)\n",
        "print(f\"Model saved to {save_path}\")\n",
        "\n",
        "\n",
        "# model = SketchClassifier(num_classes=2)\n",
        "# model.load_state_dict(torch.load(\"/content/drive/MyDrive/SketchClassifier.pth\"))\n",
        "# model.to(device)\n",
        "# model.eval()"
      ]
    },
    {
      "cell_type": "code",
      "execution_count": 27,
      "metadata": {
        "colab": {
          "base_uri": "https://localhost:8080/"
        },
        "id": "7W5yFu7IKiBD",
        "outputId": "39ea6747-f706-4396-b5fe-2acf176ce5bb"
      },
      "outputs": [
        {
          "name": "stderr",
          "output_type": "stream",
          "text": [
            "Epoch 1/50: 100%|██████████| 20/20 [00:00<00:00, 23.34it/s]\n"
          ]
        },
        {
          "name": "stdout",
          "output_type": "stream",
          "text": [
            "Epoch [1/50], Loss: 0.6882\n"
          ]
        },
        {
          "name": "stderr",
          "output_type": "stream",
          "text": [
            "Epoch 2/50: 100%|██████████| 20/20 [00:01<00:00, 18.59it/s]\n"
          ]
        },
        {
          "name": "stdout",
          "output_type": "stream",
          "text": [
            "Epoch [2/50], Loss: 0.6482\n"
          ]
        },
        {
          "name": "stderr",
          "output_type": "stream",
          "text": [
            "Epoch 3/50: 100%|██████████| 20/20 [00:01<00:00, 19.12it/s]\n"
          ]
        },
        {
          "name": "stdout",
          "output_type": "stream",
          "text": [
            "Epoch [3/50], Loss: 0.6220\n"
          ]
        },
        {
          "name": "stderr",
          "output_type": "stream",
          "text": [
            "Epoch 4/50: 100%|██████████| 20/20 [00:01<00:00, 19.00it/s]\n"
          ]
        },
        {
          "name": "stdout",
          "output_type": "stream",
          "text": [
            "Epoch [4/50], Loss: 0.5871\n"
          ]
        },
        {
          "name": "stderr",
          "output_type": "stream",
          "text": [
            "Epoch 5/50: 100%|██████████| 20/20 [00:00<00:00, 24.05it/s]\n"
          ]
        },
        {
          "name": "stdout",
          "output_type": "stream",
          "text": [
            "Epoch [5/50], Loss: 0.5409\n"
          ]
        },
        {
          "name": "stderr",
          "output_type": "stream",
          "text": [
            "Epoch 6/50: 100%|██████████| 20/20 [00:00<00:00, 24.89it/s]\n"
          ]
        },
        {
          "name": "stdout",
          "output_type": "stream",
          "text": [
            "Epoch [6/50], Loss: 0.5197\n"
          ]
        },
        {
          "name": "stderr",
          "output_type": "stream",
          "text": [
            "Epoch 7/50: 100%|██████████| 20/20 [00:00<00:00, 25.10it/s]\n"
          ]
        },
        {
          "name": "stdout",
          "output_type": "stream",
          "text": [
            "Epoch [7/50], Loss: 0.5166\n"
          ]
        },
        {
          "name": "stderr",
          "output_type": "stream",
          "text": [
            "Epoch 8/50: 100%|██████████| 20/20 [00:00<00:00, 24.85it/s]\n"
          ]
        },
        {
          "name": "stdout",
          "output_type": "stream",
          "text": [
            "Epoch [8/50], Loss: 0.4529\n"
          ]
        },
        {
          "name": "stderr",
          "output_type": "stream",
          "text": [
            "Epoch 9/50: 100%|██████████| 20/20 [00:00<00:00, 24.91it/s]\n"
          ]
        },
        {
          "name": "stdout",
          "output_type": "stream",
          "text": [
            "Epoch [9/50], Loss: 0.4458\n"
          ]
        },
        {
          "name": "stderr",
          "output_type": "stream",
          "text": [
            "Epoch 10/50: 100%|██████████| 20/20 [00:00<00:00, 24.35it/s]\n"
          ]
        },
        {
          "name": "stdout",
          "output_type": "stream",
          "text": [
            "Epoch [10/50], Loss: 0.4450\n"
          ]
        },
        {
          "name": "stderr",
          "output_type": "stream",
          "text": [
            "Epoch 11/50: 100%|██████████| 20/20 [00:00<00:00, 24.61it/s]\n"
          ]
        },
        {
          "name": "stdout",
          "output_type": "stream",
          "text": [
            "Epoch [11/50], Loss: 0.4193\n"
          ]
        },
        {
          "name": "stderr",
          "output_type": "stream",
          "text": [
            "Epoch 12/50: 100%|██████████| 20/20 [00:00<00:00, 24.71it/s]\n"
          ]
        },
        {
          "name": "stdout",
          "output_type": "stream",
          "text": [
            "Epoch [12/50], Loss: 0.4169\n"
          ]
        },
        {
          "name": "stderr",
          "output_type": "stream",
          "text": [
            "Epoch 13/50: 100%|██████████| 20/20 [00:00<00:00, 24.93it/s]\n"
          ]
        },
        {
          "name": "stdout",
          "output_type": "stream",
          "text": [
            "Epoch [13/50], Loss: 0.4340\n"
          ]
        },
        {
          "name": "stderr",
          "output_type": "stream",
          "text": [
            "Epoch 14/50: 100%|██████████| 20/20 [00:00<00:00, 25.22it/s]\n"
          ]
        },
        {
          "name": "stdout",
          "output_type": "stream",
          "text": [
            "Epoch [14/50], Loss: 0.3664\n"
          ]
        },
        {
          "name": "stderr",
          "output_type": "stream",
          "text": [
            "Epoch 15/50: 100%|██████████| 20/20 [00:00<00:00, 24.66it/s]\n"
          ]
        },
        {
          "name": "stdout",
          "output_type": "stream",
          "text": [
            "Epoch [15/50], Loss: 0.3775\n"
          ]
        },
        {
          "name": "stderr",
          "output_type": "stream",
          "text": [
            "Epoch 16/50: 100%|██████████| 20/20 [00:00<00:00, 24.83it/s]\n"
          ]
        },
        {
          "name": "stdout",
          "output_type": "stream",
          "text": [
            "Epoch [16/50], Loss: 0.3659\n"
          ]
        },
        {
          "name": "stderr",
          "output_type": "stream",
          "text": [
            "Epoch 17/50: 100%|██████████| 20/20 [00:00<00:00, 21.25it/s]\n"
          ]
        },
        {
          "name": "stdout",
          "output_type": "stream",
          "text": [
            "Epoch [17/50], Loss: 0.3811\n"
          ]
        },
        {
          "name": "stderr",
          "output_type": "stream",
          "text": [
            "Epoch 18/50: 100%|██████████| 20/20 [00:01<00:00, 19.12it/s]\n"
          ]
        },
        {
          "name": "stdout",
          "output_type": "stream",
          "text": [
            "Epoch [18/50], Loss: 0.3268\n"
          ]
        },
        {
          "name": "stderr",
          "output_type": "stream",
          "text": [
            "Epoch 19/50: 100%|██████████| 20/20 [00:01<00:00, 18.82it/s]\n"
          ]
        },
        {
          "name": "stdout",
          "output_type": "stream",
          "text": [
            "Epoch [19/50], Loss: 0.3303\n"
          ]
        },
        {
          "name": "stderr",
          "output_type": "stream",
          "text": [
            "Epoch 20/50: 100%|██████████| 20/20 [00:00<00:00, 21.59it/s]\n"
          ]
        },
        {
          "name": "stdout",
          "output_type": "stream",
          "text": [
            "Epoch [20/50], Loss: 0.2915\n"
          ]
        },
        {
          "name": "stderr",
          "output_type": "stream",
          "text": [
            "Epoch 21/50: 100%|██████████| 20/20 [00:00<00:00, 25.05it/s]\n"
          ]
        },
        {
          "name": "stdout",
          "output_type": "stream",
          "text": [
            "Epoch [21/50], Loss: 0.3293\n"
          ]
        },
        {
          "name": "stderr",
          "output_type": "stream",
          "text": [
            "Epoch 22/50: 100%|██████████| 20/20 [00:00<00:00, 24.34it/s]\n"
          ]
        },
        {
          "name": "stdout",
          "output_type": "stream",
          "text": [
            "Epoch [22/50], Loss: 0.3123\n"
          ]
        },
        {
          "name": "stderr",
          "output_type": "stream",
          "text": [
            "Epoch 23/50: 100%|██████████| 20/20 [00:00<00:00, 24.59it/s]\n"
          ]
        },
        {
          "name": "stdout",
          "output_type": "stream",
          "text": [
            "Epoch [23/50], Loss: 0.2878\n"
          ]
        },
        {
          "name": "stderr",
          "output_type": "stream",
          "text": [
            "Epoch 24/50: 100%|██████████| 20/20 [00:00<00:00, 24.51it/s]\n"
          ]
        },
        {
          "name": "stdout",
          "output_type": "stream",
          "text": [
            "Epoch [24/50], Loss: 0.2656\n"
          ]
        },
        {
          "name": "stderr",
          "output_type": "stream",
          "text": [
            "Epoch 25/50: 100%|██████████| 20/20 [00:00<00:00, 24.51it/s]\n"
          ]
        },
        {
          "name": "stdout",
          "output_type": "stream",
          "text": [
            "Epoch [25/50], Loss: 0.3052\n"
          ]
        },
        {
          "name": "stderr",
          "output_type": "stream",
          "text": [
            "Epoch 26/50: 100%|██████████| 20/20 [00:00<00:00, 24.95it/s]\n"
          ]
        },
        {
          "name": "stdout",
          "output_type": "stream",
          "text": [
            "Epoch [26/50], Loss: 0.2678\n"
          ]
        },
        {
          "name": "stderr",
          "output_type": "stream",
          "text": [
            "Epoch 27/50: 100%|██████████| 20/20 [00:00<00:00, 24.69it/s]\n"
          ]
        },
        {
          "name": "stdout",
          "output_type": "stream",
          "text": [
            "Epoch [27/50], Loss: 0.2717\n"
          ]
        },
        {
          "name": "stderr",
          "output_type": "stream",
          "text": [
            "Epoch 28/50: 100%|██████████| 20/20 [00:00<00:00, 24.63it/s]\n"
          ]
        },
        {
          "name": "stdout",
          "output_type": "stream",
          "text": [
            "Epoch [28/50], Loss: 0.2362\n"
          ]
        },
        {
          "name": "stderr",
          "output_type": "stream",
          "text": [
            "Epoch 29/50: 100%|██████████| 20/20 [00:00<00:00, 24.50it/s]\n"
          ]
        },
        {
          "name": "stdout",
          "output_type": "stream",
          "text": [
            "Epoch [29/50], Loss: 0.2552\n"
          ]
        },
        {
          "name": "stderr",
          "output_type": "stream",
          "text": [
            "Epoch 30/50: 100%|██████████| 20/20 [00:00<00:00, 24.72it/s]\n"
          ]
        },
        {
          "name": "stdout",
          "output_type": "stream",
          "text": [
            "Epoch [30/50], Loss: 0.2446\n"
          ]
        },
        {
          "name": "stderr",
          "output_type": "stream",
          "text": [
            "Epoch 31/50: 100%|██████████| 20/20 [00:00<00:00, 24.79it/s]\n"
          ]
        },
        {
          "name": "stdout",
          "output_type": "stream",
          "text": [
            "Epoch [31/50], Loss: 0.2515\n"
          ]
        },
        {
          "name": "stderr",
          "output_type": "stream",
          "text": [
            "Epoch 32/50: 100%|██████████| 20/20 [00:00<00:00, 22.71it/s]\n"
          ]
        },
        {
          "name": "stdout",
          "output_type": "stream",
          "text": [
            "Epoch [32/50], Loss: 0.2448\n"
          ]
        },
        {
          "name": "stderr",
          "output_type": "stream",
          "text": [
            "Epoch 33/50: 100%|██████████| 20/20 [00:01<00:00, 18.64it/s]\n"
          ]
        },
        {
          "name": "stdout",
          "output_type": "stream",
          "text": [
            "Epoch [33/50], Loss: 0.2500\n"
          ]
        },
        {
          "name": "stderr",
          "output_type": "stream",
          "text": [
            "Epoch 34/50: 100%|██████████| 20/20 [00:01<00:00, 18.62it/s]\n"
          ]
        },
        {
          "name": "stdout",
          "output_type": "stream",
          "text": [
            "Epoch [34/50], Loss: 0.2731\n"
          ]
        },
        {
          "name": "stderr",
          "output_type": "stream",
          "text": [
            "Epoch 35/50: 100%|██████████| 20/20 [00:00<00:00, 20.12it/s]\n"
          ]
        },
        {
          "name": "stdout",
          "output_type": "stream",
          "text": [
            "Epoch [35/50], Loss: 0.1994\n"
          ]
        },
        {
          "name": "stderr",
          "output_type": "stream",
          "text": [
            "Epoch 36/50: 100%|██████████| 20/20 [00:00<00:00, 24.19it/s]\n"
          ]
        },
        {
          "name": "stdout",
          "output_type": "stream",
          "text": [
            "Epoch [36/50], Loss: 0.2525\n"
          ]
        },
        {
          "name": "stderr",
          "output_type": "stream",
          "text": [
            "Epoch 37/50: 100%|██████████| 20/20 [00:00<00:00, 24.73it/s]\n"
          ]
        },
        {
          "name": "stdout",
          "output_type": "stream",
          "text": [
            "Epoch [37/50], Loss: 0.2431\n"
          ]
        },
        {
          "name": "stderr",
          "output_type": "stream",
          "text": [
            "Epoch 38/50: 100%|██████████| 20/20 [00:00<00:00, 24.83it/s]\n"
          ]
        },
        {
          "name": "stdout",
          "output_type": "stream",
          "text": [
            "Epoch [38/50], Loss: 0.2658\n"
          ]
        },
        {
          "name": "stderr",
          "output_type": "stream",
          "text": [
            "Epoch 39/50: 100%|██████████| 20/20 [00:00<00:00, 24.74it/s]\n"
          ]
        },
        {
          "name": "stdout",
          "output_type": "stream",
          "text": [
            "Epoch [39/50], Loss: 0.2178\n"
          ]
        },
        {
          "name": "stderr",
          "output_type": "stream",
          "text": [
            "Epoch 40/50: 100%|██████████| 20/20 [00:00<00:00, 24.82it/s]\n"
          ]
        },
        {
          "name": "stdout",
          "output_type": "stream",
          "text": [
            "Epoch [40/50], Loss: 0.2073\n"
          ]
        },
        {
          "name": "stderr",
          "output_type": "stream",
          "text": [
            "Epoch 41/50: 100%|██████████| 20/20 [00:00<00:00, 24.53it/s]\n"
          ]
        },
        {
          "name": "stdout",
          "output_type": "stream",
          "text": [
            "Epoch [41/50], Loss: 0.2245\n"
          ]
        },
        {
          "name": "stderr",
          "output_type": "stream",
          "text": [
            "Epoch 42/50: 100%|██████████| 20/20 [00:00<00:00, 25.02it/s]\n"
          ]
        },
        {
          "name": "stdout",
          "output_type": "stream",
          "text": [
            "Epoch [42/50], Loss: 0.1822\n"
          ]
        },
        {
          "name": "stderr",
          "output_type": "stream",
          "text": [
            "Epoch 43/50: 100%|██████████| 20/20 [00:00<00:00, 24.78it/s]\n"
          ]
        },
        {
          "name": "stdout",
          "output_type": "stream",
          "text": [
            "Epoch [43/50], Loss: 0.2267\n"
          ]
        },
        {
          "name": "stderr",
          "output_type": "stream",
          "text": [
            "Epoch 44/50: 100%|██████████| 20/20 [00:00<00:00, 24.29it/s]\n"
          ]
        },
        {
          "name": "stdout",
          "output_type": "stream",
          "text": [
            "Epoch [44/50], Loss: 0.2412\n"
          ]
        },
        {
          "name": "stderr",
          "output_type": "stream",
          "text": [
            "Epoch 45/50: 100%|██████████| 20/20 [00:00<00:00, 24.13it/s]\n"
          ]
        },
        {
          "name": "stdout",
          "output_type": "stream",
          "text": [
            "Epoch [45/50], Loss: 0.1782\n"
          ]
        },
        {
          "name": "stderr",
          "output_type": "stream",
          "text": [
            "Epoch 46/50: 100%|██████████| 20/20 [00:00<00:00, 24.35it/s]\n"
          ]
        },
        {
          "name": "stdout",
          "output_type": "stream",
          "text": [
            "Epoch [46/50], Loss: 0.2230\n"
          ]
        },
        {
          "name": "stderr",
          "output_type": "stream",
          "text": [
            "Epoch 47/50: 100%|██████████| 20/20 [00:00<00:00, 24.09it/s]\n"
          ]
        },
        {
          "name": "stdout",
          "output_type": "stream",
          "text": [
            "Epoch [47/50], Loss: 0.2170\n"
          ]
        },
        {
          "name": "stderr",
          "output_type": "stream",
          "text": [
            "Epoch 48/50: 100%|██████████| 20/20 [00:01<00:00, 18.85it/s]\n"
          ]
        },
        {
          "name": "stdout",
          "output_type": "stream",
          "text": [
            "Epoch [48/50], Loss: 0.2090\n"
          ]
        },
        {
          "name": "stderr",
          "output_type": "stream",
          "text": [
            "Epoch 49/50: 100%|██████████| 20/20 [00:01<00:00, 18.61it/s]\n"
          ]
        },
        {
          "name": "stdout",
          "output_type": "stream",
          "text": [
            "Epoch [49/50], Loss: 0.2362\n"
          ]
        },
        {
          "name": "stderr",
          "output_type": "stream",
          "text": [
            "Epoch 50/50: 100%|██████████| 20/20 [00:01<00:00, 19.37it/s]\n"
          ]
        },
        {
          "name": "stdout",
          "output_type": "stream",
          "text": [
            "Epoch [50/50], Loss: 0.2222\n",
            "Test Accuracy: 100.00%\n"
          ]
        }
      ],
      "source": [
        "import torch\n",
        "import torch.nn as nn\n",
        "from torch.utils.data import DataLoader, random_split\n",
        "from torchvision import datasets, transforms, models\n",
        "import torch.optim as optim\n",
        "from tqdm import tqdm\n",
        "\n",
        "device = torch.device(\"cuda\" if torch.cuda.is_available() else \"cpu\")\n",
        "\n",
        "\n",
        "train_loader = DataLoader(train_dataset, batch_size=8, shuffle=True)\n",
        "test_loader = DataLoader(test_dataset, batch_size=8)\n",
        "\n",
        "model = models.resnet18(pretrained=True)\n",
        "\n",
        "for param in model.parameters():\n",
        "    param.requires_grad = False\n",
        "\n",
        "model.fc = nn.Linear(model.fc.in_features, 2)\n",
        "model.to(device)\n",
        "\n",
        "criterion = nn.CrossEntropyLoss()\n",
        "optimizer = torch.optim.Adam(model.fc.parameters(), lr=0.0001, weight_decay=1e-5)  # L2 regularization\n",
        "scheduler = torch.optim.lr_scheduler.ReduceLROnPlateau(optimizer, mode='min',\n",
        "                                                       factor=0.5, patience=5,\n",
        "                                                       verbose=True)\n",
        "\n",
        "num_epochs = 50\n",
        "for epoch in range(num_epochs):\n",
        "    model.train()\n",
        "    total_loss = 0.0\n",
        "\n",
        "    for sketch, labels in tqdm(train_loader, desc=f\"Epoch {epoch+1}/{num_epochs}\"):\n",
        "        sketch, labels = sketch.to(device), labels.to(device)\n",
        "\n",
        "        optimizer.zero_grad()\n",
        "        outputs = model(sketch)\n",
        "        loss = criterion(outputs, labels)\n",
        "        loss.backward()\n",
        "        optimizer.step()\n",
        "        total_loss += loss.item()\n",
        "\n",
        "    avg_loss = total_loss / len(train_loader)\n",
        "    print(f\"Epoch [{epoch+1}/{num_epochs}], Loss: {avg_loss:.4f}\")\n",
        "    scheduler.step(avg_loss)\n",
        "\n",
        "model.eval()\n",
        "correct = 0\n",
        "total = 0\n",
        "\n",
        "with torch.no_grad():\n",
        "    for sketch, labels in test_loader:\n",
        "        sketch, labels = sketch.to(device), labels.to(device)\n",
        "        outputs = model(sketch)\n",
        "        _, preds = torch.max(outputs, 1)\n",
        "        total += labels.size(0)\n",
        "        correct += (preds == labels).sum().item()\n",
        "\n",
        "print(f\"Test Accuracy: {100 * correct / total:.2f}%\")"
      ]
    },
    {
      "cell_type": "code",
      "execution_count": 28,
      "metadata": {
        "colab": {
          "base_uri": "https://localhost:8080/"
        },
        "id": "CYzH35wtMbmC",
        "outputId": "8ef552bf-3d58-4d81-9bcc-426535c73f1d"
      },
      "outputs": [
        {
          "name": "stdout",
          "output_type": "stream",
          "text": [
            "Model saved to /content/drive/MyDrive/ResNet18_SketchClassifier.pth\n"
          ]
        }
      ],
      "source": [
        "# Save the model weights only (recommended way)\n",
        "save_path = \"/content/drive/MyDrive/ResNet18_SketchClassifier.pth\"\n",
        "torch.save(model.state_dict(), save_path)\n",
        "print(f\"Model saved to {save_path}\")\n",
        "\n",
        "# model = models.resnet18(pretrained=True)\n",
        "# for param in model.parameters():\n",
        "#     param.requires_grad = False\n",
        "# model.fc = nn.Linear(model.fc.in_features, 2)\n",
        "\n",
        "# model.load_state_dict(torch.load(\"/content/drive/MyDrive/ResNet18_SketchClassifier.pth\"))\n",
        "# model.to(device)\n",
        "# model.eval()"
      ]
    }
  ],
  "metadata": {
    "accelerator": "GPU",
    "colab": {
      "gpuType": "T4",
      "provenance": []
    },
    "kernelspec": {
      "display_name": "Python 3",
      "name": "python3"
    },
    "language_info": {
      "name": "python"
    }
  },
  "nbformat": 4,
  "nbformat_minor": 0
}
